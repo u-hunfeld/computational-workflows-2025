{
 "cells": [
  {
   "cell_type": "markdown",
   "metadata": {},
   "source": [
    "# Day 6 - Nextflow Basics: Introduction to channels and operators"
   ]
  },
  {
   "cell_type": "markdown",
   "metadata": {},
   "source": [
    "Today, we will begin exploring Nextflow, the programming language that powers the advanced nf-core pipelines you worked with last week. Your task is to dive into the core concepts and syntax of Nextflow, understanding how this language enables the development of scalable and reproducible workflows.\n",
    "\n",
    "Nextflow works quite differently from traditional programming languages like Python or Java that you may already be familiar with. To get started, it is essential to understand the foundational concepts that set Nextflow apart."
   ]
  },
  {
   "cell_type": "markdown",
   "metadata": {},
   "source": [
    "### 1. Describe the concept of Workflows, Processes and Channels we deal with in Nextflow"
   ]
  },
  {
   "cell_type": "markdown",
   "metadata": {},
   "source": [
    "- Workflows: \"In Nextflow, a workflow is a function that is specialized for composing processes and dataflow logic (i.e. channels and operators).\"\n",
    "\n",
    "    - creates processes, connects them via channels and hands over parameters\n",
    "\n",
    "    - Source: https://www.nextflow.io/docs/latest/workflow.html#workflow-page \n",
    "\n",
    "\n",
    "\n",
    "\n",
    "\n",
    "- Processes: \"In Nextflow, a process is a specialized function for executing scripts in a scalable and portable manner.\" \n",
    "\n",
    "    - defines which commands, tasks, tools are executed\n",
    "    - includes input, output and a script\n",
    "    - multiple processes can run in parallel\n",
    "\n",
    "    - Source: https://www.nextflow.io/docs/latest/process.html#process-page \n",
    "\n",
    "\n",
    "\n",
    "\n",
    "\n",
    "\n",
    "- Channels: \"A dataflow channel (or simply channel) is an asynchronous sequence of values.\" \n",
    "\n",
    "    - channels connect the processes\n",
    "    - data flows through processes, channels connect the dataflow from one process to the next\n",
    "\n",
    "    - Source: https://www.nextflow.io/docs/latest/channel.html "
   ]
  },
  {
   "cell_type": "markdown",
   "metadata": {},
   "source": [
    "## Introduction to channels\n",
    "\n",
    "Please refer to the file  $\\texttt{channels\\_intro.nf}$ for the next exercises. Then run the code with the respective flag here below. "
   ]
  },
  {
   "cell_type": "code",
   "execution_count": 1,
   "metadata": {},
   "outputs": [
    {
     "name": "stdout",
     "output_type": "stream",
     "text": [
      "\n",
      "\u001b[1m\u001b[38;5;232m\u001b[48;5;43m N E X T F L O W \u001b[0;2m  ~  \u001b[mversion 25.04.7\u001b[m\n",
      "\u001b[K\n",
      "Launching\u001b[35m `channels_intro.nf` \u001b[0;2m[\u001b[0;1;36mdistraught_lattes\u001b[0;2m] DSL2 - \u001b[36mrevision: \u001b[0;36md2805188c9\u001b[m\n",
      "\u001b[K\n",
      "1\n",
      "2\n",
      "3\n",
      "4\n",
      "5\n",
      "6\n",
      "7\n",
      "8\n",
      "9\n",
      "10\n"
     ]
    }
   ],
   "source": [
    "# Task 1 - Create a channel that enumerates the numbers from 1 to 10\n",
    "!nextflow run channels_intro.nf --step 1"
   ]
  },
  {
   "cell_type": "code",
   "execution_count": 2,
   "metadata": {},
   "outputs": [
    {
     "name": "stdout",
     "output_type": "stream",
     "text": [
      "\n",
      "\u001b[1m\u001b[38;5;232m\u001b[48;5;43m N E X T F L O W \u001b[0;2m  ~  \u001b[mversion 25.04.7\u001b[m\n",
      "\u001b[K\n",
      "Launching\u001b[35m `channels_intro.nf` \u001b[0;2m[\u001b[0;1;36magitated_meucci\u001b[0;2m] DSL2 - \u001b[36mrevision: \u001b[0;36md2805188c9\u001b[m\n",
      "\u001b[K\n",
      "A\n",
      "B\n",
      "C\n",
      "D\n",
      "E\n",
      "F\n",
      "G\n",
      "H\n",
      "I\n",
      "J\n",
      "K\n",
      "L\n",
      "M\n",
      "N\n",
      "O\n",
      "P\n",
      "Q\n",
      "R\n",
      "S\n",
      "T\n",
      "U\n",
      "V\n",
      "W\n",
      "X\n",
      "Y\n",
      "Z\n"
     ]
    }
   ],
   "source": [
    "# Task 2 - Create a channel that gives out the entire alphabet\n",
    "!nextflow run channels_intro.nf --step 2"
   ]
  },
  {
   "cell_type": "code",
   "execution_count": 3,
   "metadata": {},
   "outputs": [
    {
     "name": "stdout",
     "output_type": "stream",
     "text": [
      "\n",
      "\u001b[1m\u001b[38;5;232m\u001b[48;5;43m N E X T F L O W \u001b[0;2m  ~  \u001b[mversion 25.04.7\u001b[m\n",
      "\u001b[K\n",
      "Launching\u001b[35m `channels_intro.nf` \u001b[0;2m[\u001b[0;1;36mloquacious_northcutt\u001b[0;2m] DSL2 - \u001b[36mrevision: \u001b[0;36md2805188c9\u001b[m\n",
      "\u001b[K\n",
      "/mnt/c/Users/ulrik/Documents/Studium/Bioinformatik M.Sc/03 SoSe25/workflows/computational-workflows-2025/notebooks/day_04/files_dir/fastq.fq\n",
      "/mnt/c/Users/ulrik/Documents/Studium/Bioinformatik M.Sc/03 SoSe25/workflows/computational-workflows-2025/notebooks/day_04/files_dir/fastq1_1.fq\n",
      "/mnt/c/Users/ulrik/Documents/Studium/Bioinformatik M.Sc/03 SoSe25/workflows/computational-workflows-2025/notebooks/day_04/files_dir/fastq1_2.fq\n",
      "/mnt/c/Users/ulrik/Documents/Studium/Bioinformatik M.Sc/03 SoSe25/workflows/computational-workflows-2025/notebooks/day_04/files_dir/fastq2_1.fq\n",
      "/mnt/c/Users/ulrik/Documents/Studium/Bioinformatik M.Sc/03 SoSe25/workflows/computational-workflows-2025/notebooks/day_04/files_dir/fastq2_2.fq\n",
      "/mnt/c/Users/ulrik/Documents/Studium/Bioinformatik M.Sc/03 SoSe25/workflows/computational-workflows-2025/notebooks/day_04/files_dir/fastq3_1.fq\n",
      "/mnt/c/Users/ulrik/Documents/Studium/Bioinformatik M.Sc/03 SoSe25/workflows/computational-workflows-2025/notebooks/day_04/files_dir/fastq3_2.fq\n",
      "/mnt/c/Users/ulrik/Documents/Studium/Bioinformatik M.Sc/03 SoSe25/workflows/computational-workflows-2025/notebooks/day_04/files_dir/fastq4_1.fq\n",
      "/mnt/c/Users/ulrik/Documents/Studium/Bioinformatik M.Sc/03 SoSe25/workflows/computational-workflows-2025/notebooks/day_04/files_dir/fastq4_2.fq\n",
      "/mnt/c/Users/ulrik/Documents/Studium/Bioinformatik M.Sc/03 SoSe25/workflows/computational-workflows-2025/notebooks/day_04/files_dir/fastq5_1.fq\n",
      "/mnt/c/Users/ulrik/Documents/Studium/Bioinformatik M.Sc/03 SoSe25/workflows/computational-workflows-2025/notebooks/day_04/files_dir/fastq5_2.fq\n",
      "/mnt/c/Users/ulrik/Documents/Studium/Bioinformatik M.Sc/03 SoSe25/workflows/computational-workflows-2025/notebooks/day_04/files_dir/fastq_1.fq\n",
      "/mnt/c/Users/ulrik/Documents/Studium/Bioinformatik M.Sc/03 SoSe25/workflows/computational-workflows-2025/notebooks/day_04/files_dir/fastq_2.fq\n",
      "/mnt/c/Users/ulrik/Documents/Studium/Bioinformatik M.Sc/03 SoSe25/workflows/computational-workflows-2025/notebooks/day_04/files_dir/file_1.txt\n",
      "/mnt/c/Users/ulrik/Documents/Studium/Bioinformatik M.Sc/03 SoSe25/workflows/computational-workflows-2025/notebooks/day_04/files_dir/file_2.txt\n",
      "/mnt/c/Users/ulrik/Documents/Studium/Bioinformatik M.Sc/03 SoSe25/workflows/computational-workflows-2025/notebooks/day_04/files_dir/file_3.txt\n",
      "/mnt/c/Users/ulrik/Documents/Studium/Bioinformatik M.Sc/03 SoSe25/workflows/computational-workflows-2025/notebooks/day_04/files_dir/file_4.txt\n",
      "/mnt/c/Users/ulrik/Documents/Studium/Bioinformatik M.Sc/03 SoSe25/workflows/computational-workflows-2025/notebooks/day_04/files_dir/file_5.txt\n",
      "/mnt/c/Users/ulrik/Documents/Studium/Bioinformatik M.Sc/03 SoSe25/workflows/computational-workflows-2025/notebooks/day_04/files_dir/SRR.fq\n",
      "/mnt/c/Users/ulrik/Documents/Studium/Bioinformatik M.Sc/03 SoSe25/workflows/computational-workflows-2025/notebooks/day_04/files_dir/SRR1_1.fq\n",
      "/mnt/c/Users/ulrik/Documents/Studium/Bioinformatik M.Sc/03 SoSe25/workflows/computational-workflows-2025/notebooks/day_04/files_dir/SRR1_2.fq\n",
      "/mnt/c/Users/ulrik/Documents/Studium/Bioinformatik M.Sc/03 SoSe25/workflows/computational-workflows-2025/notebooks/day_04/files_dir/SRR2_1.fq\n",
      "/mnt/c/Users/ulrik/Documents/Studium/Bioinformatik M.Sc/03 SoSe25/workflows/computational-workflows-2025/notebooks/day_04/files_dir/SRR2_2.fq\n",
      "/mnt/c/Users/ulrik/Documents/Studium/Bioinformatik M.Sc/03 SoSe25/workflows/computational-workflows-2025/notebooks/day_04/files_dir/SRR3_1.fq\n",
      "/mnt/c/Users/ulrik/Documents/Studium/Bioinformatik M.Sc/03 SoSe25/workflows/computational-workflows-2025/notebooks/day_04/files_dir/SRR3_2.fq\n",
      "/mnt/c/Users/ulrik/Documents/Studium/Bioinformatik M.Sc/03 SoSe25/workflows/computational-workflows-2025/notebooks/day_04/files_dir/SRR4_1.fq\n",
      "/mnt/c/Users/ulrik/Documents/Studium/Bioinformatik M.Sc/03 SoSe25/workflows/computational-workflows-2025/notebooks/day_04/files_dir/SRR4_2.fq\n",
      "/mnt/c/Users/ulrik/Documents/Studium/Bioinformatik M.Sc/03 SoSe25/workflows/computational-workflows-2025/notebooks/day_04/files_dir/SRR5_1.fq\n",
      "/mnt/c/Users/ulrik/Documents/Studium/Bioinformatik M.Sc/03 SoSe25/workflows/computational-workflows-2025/notebooks/day_04/files_dir/SRR5_2.fq\n"
     ]
    }
   ],
   "source": [
    "# Task 3 - Create a channel that includes all files in the \"files_dir\" directory\n",
    "!nextflow run channels_intro.nf --step 3"
   ]
  },
  {
   "cell_type": "code",
   "execution_count": 4,
   "metadata": {},
   "outputs": [
    {
     "name": "stdout",
     "output_type": "stream",
     "text": [
      "\n",
      "\u001b[1m\u001b[38;5;232m\u001b[48;5;43m N E X T F L O W \u001b[0;2m  ~  \u001b[mversion 25.04.7\u001b[m\n",
      "\u001b[K\n",
      "Launching\u001b[35m `channels_intro.nf` \u001b[0;2m[\u001b[0;1;36mmodest_nobel\u001b[0;2m] DSL2 - \u001b[36mrevision: \u001b[0;36md2805188c9\u001b[m\n",
      "\u001b[K\n",
      "/mnt/c/Users/ulrik/Documents/Studium/Bioinformatik M.Sc/03 SoSe25/workflows/computational-workflows-2025/notebooks/day_04/files_dir/file_1.txt\n",
      "/mnt/c/Users/ulrik/Documents/Studium/Bioinformatik M.Sc/03 SoSe25/workflows/computational-workflows-2025/notebooks/day_04/files_dir/file_2.txt\n",
      "/mnt/c/Users/ulrik/Documents/Studium/Bioinformatik M.Sc/03 SoSe25/workflows/computational-workflows-2025/notebooks/day_04/files_dir/file_3.txt\n",
      "/mnt/c/Users/ulrik/Documents/Studium/Bioinformatik M.Sc/03 SoSe25/workflows/computational-workflows-2025/notebooks/day_04/files_dir/file_4.txt\n",
      "/mnt/c/Users/ulrik/Documents/Studium/Bioinformatik M.Sc/03 SoSe25/workflows/computational-workflows-2025/notebooks/day_04/files_dir/file_5.txt\n"
     ]
    }
   ],
   "source": [
    "# Task 4 - Create a channel that includes all TXT files in the \"files_dir\" directory\n",
    "!nextflow run channels_intro.nf --step 4"
   ]
  },
  {
   "cell_type": "code",
   "execution_count": 5,
   "metadata": {},
   "outputs": [
    {
     "name": "stdout",
     "output_type": "stream",
     "text": [
      "\n",
      "\u001b[1m\u001b[38;5;232m\u001b[48;5;43m N E X T F L O W \u001b[0;2m  ~  \u001b[mversion 25.04.7\u001b[m\n",
      "\u001b[K\n",
      "Launching\u001b[35m `channels_intro.nf` \u001b[0;2m[\u001b[0;1;36mfocused_jepsen\u001b[0;2m] DSL2 - \u001b[36mrevision: \u001b[0;36md2805188c9\u001b[m\n",
      "\u001b[K\n",
      "/mnt/c/Users/ulrik/Documents/Studium/Bioinformatik M.Sc/03 SoSe25/workflows/computational-workflows-2025/notebooks/day_04/files_dir/fastq_1.fq\n",
      "/mnt/c/Users/ulrik/Documents/Studium/Bioinformatik M.Sc/03 SoSe25/workflows/computational-workflows-2025/notebooks/day_04/files_dir/fastq_2.fq\n"
     ]
    }
   ],
   "source": [
    "# Task 5 - Create a channel that includes the files \"fastq_1.fq\" and \"fastq_2.fq\" in the \"files_dir\" directory\n",
    "!nextflow run channels_intro.nf --step 5"
   ]
  },
  {
   "cell_type": "code",
   "execution_count": 6,
   "metadata": {},
   "outputs": [
    {
     "name": "stdout",
     "output_type": "stream",
     "text": [
      "\n",
      "\u001b[1m\u001b[38;5;232m\u001b[48;5;43m N E X T F L O W \u001b[0;2m  ~  \u001b[mversion 25.04.7\u001b[m\n",
      "\u001b[K\n",
      "Launching\u001b[35m `channels_intro.nf` \u001b[0;2m[\u001b[0;1;36mevil_keller\u001b[0;2m] DSL2 - \u001b[36mrevision: \u001b[0;36md2805188c9\u001b[m\n",
      "\u001b[K\n",
      "/mnt/c/Users/ulrik/Documents/Studium/Bioinformatik M.Sc/03 SoSe25/workflows/computational-workflows-2025/notebooks/day_04/files_dir/.hidden_1.txt\n",
      "/mnt/c/Users/ulrik/Documents/Studium/Bioinformatik M.Sc/03 SoSe25/workflows/computational-workflows-2025/notebooks/day_04/files_dir/.hidden_2.txt\n",
      "/mnt/c/Users/ulrik/Documents/Studium/Bioinformatik M.Sc/03 SoSe25/workflows/computational-workflows-2025/notebooks/day_04/files_dir/fastq.fq\n",
      "/mnt/c/Users/ulrik/Documents/Studium/Bioinformatik M.Sc/03 SoSe25/workflows/computational-workflows-2025/notebooks/day_04/files_dir/fastq1_1.fq\n",
      "/mnt/c/Users/ulrik/Documents/Studium/Bioinformatik M.Sc/03 SoSe25/workflows/computational-workflows-2025/notebooks/day_04/files_dir/fastq1_2.fq\n",
      "/mnt/c/Users/ulrik/Documents/Studium/Bioinformatik M.Sc/03 SoSe25/workflows/computational-workflows-2025/notebooks/day_04/files_dir/fastq2_1.fq\n",
      "/mnt/c/Users/ulrik/Documents/Studium/Bioinformatik M.Sc/03 SoSe25/workflows/computational-workflows-2025/notebooks/day_04/files_dir/fastq2_2.fq\n",
      "/mnt/c/Users/ulrik/Documents/Studium/Bioinformatik M.Sc/03 SoSe25/workflows/computational-workflows-2025/notebooks/day_04/files_dir/fastq3_1.fq\n",
      "/mnt/c/Users/ulrik/Documents/Studium/Bioinformatik M.Sc/03 SoSe25/workflows/computational-workflows-2025/notebooks/day_04/files_dir/fastq3_2.fq\n",
      "/mnt/c/Users/ulrik/Documents/Studium/Bioinformatik M.Sc/03 SoSe25/workflows/computational-workflows-2025/notebooks/day_04/files_dir/fastq4_1.fq\n",
      "/mnt/c/Users/ulrik/Documents/Studium/Bioinformatik M.Sc/03 SoSe25/workflows/computational-workflows-2025/notebooks/day_04/files_dir/fastq4_2.fq\n",
      "/mnt/c/Users/ulrik/Documents/Studium/Bioinformatik M.Sc/03 SoSe25/workflows/computational-workflows-2025/notebooks/day_04/files_dir/fastq5_1.fq\n",
      "/mnt/c/Users/ulrik/Documents/Studium/Bioinformatik M.Sc/03 SoSe25/workflows/computational-workflows-2025/notebooks/day_04/files_dir/fastq5_2.fq\n",
      "/mnt/c/Users/ulrik/Documents/Studium/Bioinformatik M.Sc/03 SoSe25/workflows/computational-workflows-2025/notebooks/day_04/files_dir/fastq_1.fq\n",
      "/mnt/c/Users/ulrik/Documents/Studium/Bioinformatik M.Sc/03 SoSe25/workflows/computational-workflows-2025/notebooks/day_04/files_dir/fastq_2.fq\n",
      "/mnt/c/Users/ulrik/Documents/Studium/Bioinformatik M.Sc/03 SoSe25/workflows/computational-workflows-2025/notebooks/day_04/files_dir/file_1.txt\n",
      "/mnt/c/Users/ulrik/Documents/Studium/Bioinformatik M.Sc/03 SoSe25/workflows/computational-workflows-2025/notebooks/day_04/files_dir/file_2.txt\n",
      "/mnt/c/Users/ulrik/Documents/Studium/Bioinformatik M.Sc/03 SoSe25/workflows/computational-workflows-2025/notebooks/day_04/files_dir/file_3.txt\n",
      "/mnt/c/Users/ulrik/Documents/Studium/Bioinformatik M.Sc/03 SoSe25/workflows/computational-workflows-2025/notebooks/day_04/files_dir/file_4.txt\n",
      "/mnt/c/Users/ulrik/Documents/Studium/Bioinformatik M.Sc/03 SoSe25/workflows/computational-workflows-2025/notebooks/day_04/files_dir/file_5.txt\n",
      "/mnt/c/Users/ulrik/Documents/Studium/Bioinformatik M.Sc/03 SoSe25/workflows/computational-workflows-2025/notebooks/day_04/files_dir/SRR.fq\n",
      "/mnt/c/Users/ulrik/Documents/Studium/Bioinformatik M.Sc/03 SoSe25/workflows/computational-workflows-2025/notebooks/day_04/files_dir/SRR1_1.fq\n",
      "/mnt/c/Users/ulrik/Documents/Studium/Bioinformatik M.Sc/03 SoSe25/workflows/computational-workflows-2025/notebooks/day_04/files_dir/SRR1_2.fq\n",
      "/mnt/c/Users/ulrik/Documents/Studium/Bioinformatik M.Sc/03 SoSe25/workflows/computational-workflows-2025/notebooks/day_04/files_dir/SRR2_1.fq\n",
      "/mnt/c/Users/ulrik/Documents/Studium/Bioinformatik M.Sc/03 SoSe25/workflows/computational-workflows-2025/notebooks/day_04/files_dir/SRR2_2.fq\n",
      "/mnt/c/Users/ulrik/Documents/Studium/Bioinformatik M.Sc/03 SoSe25/workflows/computational-workflows-2025/notebooks/day_04/files_dir/SRR3_1.fq\n",
      "/mnt/c/Users/ulrik/Documents/Studium/Bioinformatik M.Sc/03 SoSe25/workflows/computational-workflows-2025/notebooks/day_04/files_dir/SRR3_2.fq\n",
      "/mnt/c/Users/ulrik/Documents/Studium/Bioinformatik M.Sc/03 SoSe25/workflows/computational-workflows-2025/notebooks/day_04/files_dir/SRR4_1.fq\n",
      "/mnt/c/Users/ulrik/Documents/Studium/Bioinformatik M.Sc/03 SoSe25/workflows/computational-workflows-2025/notebooks/day_04/files_dir/SRR4_2.fq\n",
      "/mnt/c/Users/ulrik/Documents/Studium/Bioinformatik M.Sc/03 SoSe25/workflows/computational-workflows-2025/notebooks/day_04/files_dir/SRR5_1.fq\n",
      "/mnt/c/Users/ulrik/Documents/Studium/Bioinformatik M.Sc/03 SoSe25/workflows/computational-workflows-2025/notebooks/day_04/files_dir/SRR5_2.fq\n"
     ]
    }
   ],
   "source": [
    "# Task 6 - go back to the time when you included all files. Are you sure that really ALL files are included? If not, how can you include them?\n",
    "!nextflow run channels_intro.nf --step 6"
   ]
  },
  {
   "cell_type": "code",
   "execution_count": 7,
   "metadata": {},
   "outputs": [
    {
     "name": "stdout",
     "output_type": "stream",
     "text": [
      "\n",
      "\u001b[1m\u001b[38;5;232m\u001b[48;5;43m N E X T F L O W \u001b[0;2m  ~  \u001b[mversion 25.04.7\u001b[m\n",
      "\u001b[K\n",
      "Launching\u001b[35m `channels_intro.nf` \u001b[0;2m[\u001b[0;1;36mirreverent_pesquet\u001b[0;2m] DSL2 - \u001b[36mrevision: \u001b[0;36md2805188c9\u001b[m\n",
      "\u001b[K\n",
      "[.hidden, [/mnt/c/Users/ulrik/Documents/Studium/Bioinformatik M.Sc/03 SoSe25/workflows/computational-workflows-2025/notebooks/day_04/files_dir/.hidden_1.txt, /mnt/c/Users/ulrik/Documents/Studium/Bioinformatik M.Sc/03 SoSe25/workflows/computational-workflows-2025/notebooks/day_04/files_dir/.hidden_2.txt]]\n",
      "[fastq1, [/mnt/c/Users/ulrik/Documents/Studium/Bioinformatik M.Sc/03 SoSe25/workflows/computational-workflows-2025/notebooks/day_04/files_dir/fastq1_1.fq, /mnt/c/Users/ulrik/Documents/Studium/Bioinformatik M.Sc/03 SoSe25/workflows/computational-workflows-2025/notebooks/day_04/files_dir/fastq1_2.fq]]\n",
      "[fastq2, [/mnt/c/Users/ulrik/Documents/Studium/Bioinformatik M.Sc/03 SoSe25/workflows/computational-workflows-2025/notebooks/day_04/files_dir/fastq2_1.fq, /mnt/c/Users/ulrik/Documents/Studium/Bioinformatik M.Sc/03 SoSe25/workflows/computational-workflows-2025/notebooks/day_04/files_dir/fastq2_2.fq]]\n",
      "[fastq3, [/mnt/c/Users/ulrik/Documents/Studium/Bioinformatik M.Sc/03 SoSe25/workflows/computational-workflows-2025/notebooks/day_04/files_dir/fastq3_1.fq, /mnt/c/Users/ulrik/Documents/Studium/Bioinformatik M.Sc/03 SoSe25/workflows/computational-workflows-2025/notebooks/day_04/files_dir/fastq3_2.fq]]\n",
      "[fastq4, [/mnt/c/Users/ulrik/Documents/Studium/Bioinformatik M.Sc/03 SoSe25/workflows/computational-workflows-2025/notebooks/day_04/files_dir/fastq4_1.fq, /mnt/c/Users/ulrik/Documents/Studium/Bioinformatik M.Sc/03 SoSe25/workflows/computational-workflows-2025/notebooks/day_04/files_dir/fastq4_2.fq]]\n",
      "[fastq5, [/mnt/c/Users/ulrik/Documents/Studium/Bioinformatik M.Sc/03 SoSe25/workflows/computational-workflows-2025/notebooks/day_04/files_dir/fastq5_1.fq, /mnt/c/Users/ulrik/Documents/Studium/Bioinformatik M.Sc/03 SoSe25/workflows/computational-workflows-2025/notebooks/day_04/files_dir/fastq5_2.fq]]\n",
      "[fastq, [/mnt/c/Users/ulrik/Documents/Studium/Bioinformatik M.Sc/03 SoSe25/workflows/computational-workflows-2025/notebooks/day_04/files_dir/fastq_1.fq, /mnt/c/Users/ulrik/Documents/Studium/Bioinformatik M.Sc/03 SoSe25/workflows/computational-workflows-2025/notebooks/day_04/files_dir/fastq_2.fq]]\n",
      "[file, [/mnt/c/Users/ulrik/Documents/Studium/Bioinformatik M.Sc/03 SoSe25/workflows/computational-workflows-2025/notebooks/day_04/files_dir/file_1.txt, /mnt/c/Users/ulrik/Documents/Studium/Bioinformatik M.Sc/03 SoSe25/workflows/computational-workflows-2025/notebooks/day_04/files_dir/file_2.txt]]\n",
      "[SRR1, [/mnt/c/Users/ulrik/Documents/Studium/Bioinformatik M.Sc/03 SoSe25/workflows/computational-workflows-2025/notebooks/day_04/files_dir/SRR1_1.fq, /mnt/c/Users/ulrik/Documents/Studium/Bioinformatik M.Sc/03 SoSe25/workflows/computational-workflows-2025/notebooks/day_04/files_dir/SRR1_2.fq]]\n",
      "[SRR2, [/mnt/c/Users/ulrik/Documents/Studium/Bioinformatik M.Sc/03 SoSe25/workflows/computational-workflows-2025/notebooks/day_04/files_dir/SRR2_1.fq, /mnt/c/Users/ulrik/Documents/Studium/Bioinformatik M.Sc/03 SoSe25/workflows/computational-workflows-2025/notebooks/day_04/files_dir/SRR2_2.fq]]\n",
      "[SRR3, [/mnt/c/Users/ulrik/Documents/Studium/Bioinformatik M.Sc/03 SoSe25/workflows/computational-workflows-2025/notebooks/day_04/files_dir/SRR3_1.fq, /mnt/c/Users/ulrik/Documents/Studium/Bioinformatik M.Sc/03 SoSe25/workflows/computational-workflows-2025/notebooks/day_04/files_dir/SRR3_2.fq]]\n",
      "[SRR4, [/mnt/c/Users/ulrik/Documents/Studium/Bioinformatik M.Sc/03 SoSe25/workflows/computational-workflows-2025/notebooks/day_04/files_dir/SRR4_1.fq, /mnt/c/Users/ulrik/Documents/Studium/Bioinformatik M.Sc/03 SoSe25/workflows/computational-workflows-2025/notebooks/day_04/files_dir/SRR4_2.fq]]\n",
      "[SRR5, [/mnt/c/Users/ulrik/Documents/Studium/Bioinformatik M.Sc/03 SoSe25/workflows/computational-workflows-2025/notebooks/day_04/files_dir/SRR5_1.fq, /mnt/c/Users/ulrik/Documents/Studium/Bioinformatik M.Sc/03 SoSe25/workflows/computational-workflows-2025/notebooks/day_04/files_dir/SRR5_2.fq]]\n"
     ]
    }
   ],
   "source": [
    "# Task 7 - get all filepairs in the \"files_dir\" directory\n",
    "!nextflow run channels_intro.nf --step 7"
   ]
  },
  {
   "cell_type": "markdown",
   "metadata": {},
   "source": [
    "## Now that you have a solid understanding of the basic concepts of channels in Nextflow, it’s time to experiment and see how they work in practice."
   ]
  },
  {
   "cell_type": "markdown",
   "metadata": {},
   "source": [
    "To do so, Nextflow has the concept of Operators to give and pass information inbetween channels.\n",
    "\n",
    "Please answer the questions in $\\texttt{basic\\_channel\\_operations.nf}$ and run the code here. "
   ]
  },
  {
   "cell_type": "code",
   "execution_count": 8,
   "metadata": {},
   "outputs": [
    {
     "name": "stdout",
     "output_type": "stream",
     "text": [
      "\n",
      "\u001b[1m\u001b[38;5;232m\u001b[48;5;43m N E X T F L O W \u001b[0;2m  ~  \u001b[mversion 25.04.7\u001b[m\n",
      "\u001b[K\n",
      "Launching\u001b[35m `basic_channel_operations.nf` \u001b[0;2m[\u001b[0;1;36mcrazy_wescoff\u001b[0;2m] DSL2 - \u001b[36mrevision: \u001b[0;36mdf61ac9783\u001b[m\n",
      "\u001b[K\n",
      "1\n"
     ]
    }
   ],
   "source": [
    "# Task 1 - Extract the first item from the channel\n",
    "!nextflow run basic_channel_operations.nf --step 1"
   ]
  },
  {
   "cell_type": "code",
   "execution_count": 9,
   "metadata": {},
   "outputs": [
    {
     "name": "stdout",
     "output_type": "stream",
     "text": [
      "\n",
      "\u001b[1m\u001b[38;5;232m\u001b[48;5;43m N E X T F L O W \u001b[0;2m  ~  \u001b[mversion 25.04.7\u001b[m\n",
      "\u001b[K\n",
      "Launching\u001b[35m `basic_channel_operations.nf` \u001b[0;2m[\u001b[0;1;36msilly_hypatia\u001b[0;2m] DSL2 - \u001b[36mrevision: \u001b[0;36mdf61ac9783\u001b[m\n",
      "\u001b[K\n",
      "3\n"
     ]
    }
   ],
   "source": [
    "# Task 2 - Extract the last item from the channel\n",
    "!nextflow run basic_channel_operations.nf --step 2"
   ]
  },
  {
   "cell_type": "code",
   "execution_count": 10,
   "metadata": {},
   "outputs": [
    {
     "name": "stdout",
     "output_type": "stream",
     "text": [
      "\n",
      "\u001b[1m\u001b[38;5;232m\u001b[48;5;43m N E X T F L O W \u001b[0;2m  ~  \u001b[mversion 25.04.7\u001b[m\n",
      "\u001b[K\n",
      "Launching\u001b[35m `basic_channel_operations.nf` \u001b[0;2m[\u001b[0;1;36mexotic_goodall\u001b[0;2m] DSL2 - \u001b[36mrevision: \u001b[0;36mdf61ac9783\u001b[m\n",
      "\u001b[K\n",
      "1\n",
      "2\n"
     ]
    }
   ],
   "source": [
    "# Task 3 - Use an operator to extract the first two items from the channel\n",
    "!nextflow run basic_channel_operations.nf --step 3"
   ]
  },
  {
   "cell_type": "code",
   "execution_count": 11,
   "metadata": {},
   "outputs": [
    {
     "name": "stdout",
     "output_type": "stream",
     "text": [
      "\n",
      "\u001b[1m\u001b[38;5;232m\u001b[48;5;43m N E X T F L O W \u001b[0;2m  ~  \u001b[mversion 25.04.7\u001b[m\n",
      "\u001b[K\n",
      "Launching\u001b[35m `basic_channel_operations.nf` \u001b[0;2m[\u001b[0;1;36mstupefied_chandrasekhar\u001b[0;2m] DSL2 - \u001b[36mrevision: \u001b[0;36mdf61ac9783\u001b[m\n",
      "\u001b[K\n",
      "4\n",
      "9\n",
      "16\n"
     ]
    }
   ],
   "source": [
    "# Task 4 - Return the squared values of the channel\n",
    "!nextflow run basic_channel_operations.nf --step 4"
   ]
  },
  {
   "cell_type": "code",
   "execution_count": 12,
   "metadata": {},
   "outputs": [
    {
     "name": "stdout",
     "output_type": "stream",
     "text": [
      "\n",
      "\u001b[1m\u001b[38;5;232m\u001b[48;5;43m N E X T F L O W \u001b[0;2m  ~  \u001b[mversion 25.04.7\u001b[m\n",
      "\u001b[K\n",
      "Launching\u001b[35m `basic_channel_operations.nf` \u001b[0;2m[\u001b[0;1;36mgrave_mcnulty\u001b[0;2m] DSL2 - \u001b[36mrevision: \u001b[0;36mdf61ac9783\u001b[m\n",
      "\u001b[K\n",
      "4\n",
      "9\n"
     ]
    }
   ],
   "source": [
    "# Task 5 - Remember the previous task where you squared the values of the channel. Now, extract the first two items from the squared channel\n",
    "!nextflow run basic_channel_operations.nf --step 5"
   ]
  },
  {
   "cell_type": "code",
   "execution_count": 14,
   "metadata": {},
   "outputs": [
    {
     "name": "stdout",
     "output_type": "stream",
     "text": [
      "\n",
      "\u001b[1m\u001b[38;5;232m\u001b[48;5;43m N E X T F L O W \u001b[0;2m  ~  \u001b[mversion 25.04.7\u001b[m\n",
      "\u001b[K\n",
      "Launching\u001b[35m `basic_channel_operations.nf` \u001b[0;2m[\u001b[0;1;36mtiny_carson\u001b[0;2m] DSL2 - \u001b[36mrevision: \u001b[0;36m1ac517b261\u001b[m\n",
      "\u001b[K\n",
      "Swift\n",
      "Taylor\n"
     ]
    }
   ],
   "source": [
    "# Task 6 - Remember when you used bash to reverse the output? Try to use map and Groovy to reverse the output\n",
    "!nextflow run basic_channel_operations.nf --step 6"
   ]
  },
  {
   "cell_type": "code",
   "execution_count": 15,
   "metadata": {},
   "outputs": [
    {
     "name": "stdout",
     "output_type": "stream",
     "text": [
      "\n",
      "\u001b[1m\u001b[38;5;232m\u001b[48;5;43m N E X T F L O W \u001b[0;2m  ~  \u001b[mversion 25.04.7\u001b[m\n",
      "\u001b[K\n",
      "Launching\u001b[35m `basic_channel_operations.nf` \u001b[0;2m[\u001b[0;1;36mtrusting_mirzakhani\u001b[0;2m] DSL2 - \u001b[36mrevision: \u001b[0;36m1ac517b261\u001b[m\n",
      "\u001b[K\n",
      "[fastq.fq, /mnt/c/Users/ulrik/Documents/Studium/Bioinformatik M.Sc/03 SoSe25/workflows/computational-workflows-2025/notebooks/day_04/files_dir/fastq.fq]\n",
      "[fastq1_1.fq, /mnt/c/Users/ulrik/Documents/Studium/Bioinformatik M.Sc/03 SoSe25/workflows/computational-workflows-2025/notebooks/day_04/files_dir/fastq1_1.fq]\n",
      "[fastq1_2.fq, /mnt/c/Users/ulrik/Documents/Studium/Bioinformatik M.Sc/03 SoSe25/workflows/computational-workflows-2025/notebooks/day_04/files_dir/fastq1_2.fq]\n",
      "[fastq2_1.fq, /mnt/c/Users/ulrik/Documents/Studium/Bioinformatik M.Sc/03 SoSe25/workflows/computational-workflows-2025/notebooks/day_04/files_dir/fastq2_1.fq]\n",
      "[fastq2_2.fq, /mnt/c/Users/ulrik/Documents/Studium/Bioinformatik M.Sc/03 SoSe25/workflows/computational-workflows-2025/notebooks/day_04/files_dir/fastq2_2.fq]\n",
      "[fastq3_1.fq, /mnt/c/Users/ulrik/Documents/Studium/Bioinformatik M.Sc/03 SoSe25/workflows/computational-workflows-2025/notebooks/day_04/files_dir/fastq3_1.fq]\n",
      "[fastq3_2.fq, /mnt/c/Users/ulrik/Documents/Studium/Bioinformatik M.Sc/03 SoSe25/workflows/computational-workflows-2025/notebooks/day_04/files_dir/fastq3_2.fq]\n",
      "[fastq4_1.fq, /mnt/c/Users/ulrik/Documents/Studium/Bioinformatik M.Sc/03 SoSe25/workflows/computational-workflows-2025/notebooks/day_04/files_dir/fastq4_1.fq]\n",
      "[fastq4_2.fq, /mnt/c/Users/ulrik/Documents/Studium/Bioinformatik M.Sc/03 SoSe25/workflows/computational-workflows-2025/notebooks/day_04/files_dir/fastq4_2.fq]\n",
      "[fastq5_1.fq, /mnt/c/Users/ulrik/Documents/Studium/Bioinformatik M.Sc/03 SoSe25/workflows/computational-workflows-2025/notebooks/day_04/files_dir/fastq5_1.fq]\n",
      "[fastq5_2.fq, /mnt/c/Users/ulrik/Documents/Studium/Bioinformatik M.Sc/03 SoSe25/workflows/computational-workflows-2025/notebooks/day_04/files_dir/fastq5_2.fq]\n",
      "[fastq_1.fq, /mnt/c/Users/ulrik/Documents/Studium/Bioinformatik M.Sc/03 SoSe25/workflows/computational-workflows-2025/notebooks/day_04/files_dir/fastq_1.fq]\n",
      "[fastq_2.fq, /mnt/c/Users/ulrik/Documents/Studium/Bioinformatik M.Sc/03 SoSe25/workflows/computational-workflows-2025/notebooks/day_04/files_dir/fastq_2.fq]\n",
      "[SRR.fq, /mnt/c/Users/ulrik/Documents/Studium/Bioinformatik M.Sc/03 SoSe25/workflows/computational-workflows-2025/notebooks/day_04/files_dir/SRR.fq]\n",
      "[SRR1_1.fq, /mnt/c/Users/ulrik/Documents/Studium/Bioinformatik M.Sc/03 SoSe25/workflows/computational-workflows-2025/notebooks/day_04/files_dir/SRR1_1.fq]\n",
      "[SRR1_2.fq, /mnt/c/Users/ulrik/Documents/Studium/Bioinformatik M.Sc/03 SoSe25/workflows/computational-workflows-2025/notebooks/day_04/files_dir/SRR1_2.fq]\n",
      "[SRR2_1.fq, /mnt/c/Users/ulrik/Documents/Studium/Bioinformatik M.Sc/03 SoSe25/workflows/computational-workflows-2025/notebooks/day_04/files_dir/SRR2_1.fq]\n",
      "[SRR2_2.fq, /mnt/c/Users/ulrik/Documents/Studium/Bioinformatik M.Sc/03 SoSe25/workflows/computational-workflows-2025/notebooks/day_04/files_dir/SRR2_2.fq]\n",
      "[SRR3_1.fq, /mnt/c/Users/ulrik/Documents/Studium/Bioinformatik M.Sc/03 SoSe25/workflows/computational-workflows-2025/notebooks/day_04/files_dir/SRR3_1.fq]\n",
      "[SRR3_2.fq, /mnt/c/Users/ulrik/Documents/Studium/Bioinformatik M.Sc/03 SoSe25/workflows/computational-workflows-2025/notebooks/day_04/files_dir/SRR3_2.fq]\n",
      "[SRR4_1.fq, /mnt/c/Users/ulrik/Documents/Studium/Bioinformatik M.Sc/03 SoSe25/workflows/computational-workflows-2025/notebooks/day_04/files_dir/SRR4_1.fq]\n",
      "[SRR4_2.fq, /mnt/c/Users/ulrik/Documents/Studium/Bioinformatik M.Sc/03 SoSe25/workflows/computational-workflows-2025/notebooks/day_04/files_dir/SRR4_2.fq]\n",
      "[SRR5_1.fq, /mnt/c/Users/ulrik/Documents/Studium/Bioinformatik M.Sc/03 SoSe25/workflows/computational-workflows-2025/notebooks/day_04/files_dir/SRR5_1.fq]\n",
      "[SRR5_2.fq, /mnt/c/Users/ulrik/Documents/Studium/Bioinformatik M.Sc/03 SoSe25/workflows/computational-workflows-2025/notebooks/day_04/files_dir/SRR5_2.fq]\n"
     ]
    }
   ],
   "source": [
    "# Task 7 - Use fromPath to include all fastq files in the \"files_dir\" directory, then use map to return a pair containing the file name and the file path (Hint: include groovy code)\n",
    "!nextflow run basic_channel_operations.nf --step 7"
   ]
  },
  {
   "cell_type": "code",
   "execution_count": 16,
   "metadata": {},
   "outputs": [
    {
     "name": "stdout",
     "output_type": "stream",
     "text": [
      "\n",
      "\u001b[1m\u001b[38;5;232m\u001b[48;5;43m N E X T F L O W \u001b[0;2m  ~  \u001b[mversion 25.04.7\u001b[m\n",
      "\u001b[K\n",
      "Launching\u001b[35m `basic_channel_operations.nf` \u001b[0;2m[\u001b[0;1;36mtrusting_wescoff\u001b[0;2m] DSL2 - \u001b[36mrevision: \u001b[0;36m1ac517b261\u001b[m\n",
      "\u001b[K\n",
      "1\n",
      "2\n",
      "3\n",
      "4\n",
      "5\n",
      "6\n"
     ]
    }
   ],
   "source": [
    "# Task 8 - Combine the items from the two channels into a single channel\n",
    "!nextflow run basic_channel_operations.nf --step 8"
   ]
  },
  {
   "cell_type": "code",
   "execution_count": 17,
   "metadata": {},
   "outputs": [
    {
     "name": "stdout",
     "output_type": "stream",
     "text": [
      "\n",
      "\u001b[1m\u001b[38;5;232m\u001b[48;5;43m N E X T F L O W \u001b[0;2m  ~  \u001b[mversion 25.04.7\u001b[m\n",
      "\u001b[K\n",
      "Launching\u001b[35m `basic_channel_operations.nf` \u001b[0;2m[\u001b[0;1;36mhopeful_bose\u001b[0;2m] DSL2 - \u001b[36mrevision: \u001b[0;36m1ac517b261\u001b[m\n",
      "\u001b[K\n",
      "1\n",
      "2\n",
      "3\n",
      "4\n",
      "5\n",
      "6\n"
     ]
    }
   ],
   "source": [
    "# Task 9 - Flatten the list in the channel\n",
    "!nextflow run basic_channel_operations.nf --step 9"
   ]
  },
  {
   "cell_type": "code",
   "execution_count": 18,
   "metadata": {},
   "outputs": [
    {
     "name": "stdout",
     "output_type": "stream",
     "text": [
      "\n",
      "\u001b[1m\u001b[38;5;232m\u001b[48;5;43m N E X T F L O W \u001b[0;2m  ~  \u001b[mversion 25.04.7\u001b[m\n",
      "\u001b[K\n",
      "Launching\u001b[35m `basic_channel_operations.nf` \u001b[0;2m[\u001b[0;1;36msuspicious_pare\u001b[0;2m] DSL2 - \u001b[36mrevision: \u001b[0;36m1ac517b261\u001b[m\n",
      "\u001b[K\n",
      "[1, 2, 3]\n"
     ]
    }
   ],
   "source": [
    "# Task 10 - Collect the items of a channel into a list. What kind of channel is the output channel?\n",
    "!nextflow run basic_channel_operations.nf --step 10"
   ]
  },
  {
   "cell_type": "markdown",
   "metadata": {},
   "source": [
    "What kind of channel is the output channel?\n",
    "- the output channel is a value channel that consists of only one item, a list"
   ]
  },
  {
   "cell_type": "code",
   "execution_count": 19,
   "metadata": {},
   "outputs": [
    {
     "name": "stdout",
     "output_type": "stream",
     "text": [
      "\n",
      "\u001b[1m\u001b[38;5;232m\u001b[48;5;43m N E X T F L O W \u001b[0;2m  ~  \u001b[mversion 25.04.7\u001b[m\n",
      "\u001b[K\n",
      "Launching\u001b[35m `basic_channel_operations.nf` \u001b[0;2m[\u001b[0;1;36mtender_meucci\u001b[0;2m] DSL2 - \u001b[36mrevision: \u001b[0;36m1ac517b261\u001b[m\n",
      "\u001b[K\n",
      "[1, [V, f, B]]\n",
      "[3, [M, G, 33]]\n",
      "[2, [O, L, E]]\n"
     ]
    }
   ],
   "source": [
    "# Task 11 -  From the input channel, create lists where each first item in the list of lists is the first item in the output channel, followed by a list of all the items its paired with\n",
    "!nextflow run basic_channel_operations.nf --step 11"
   ]
  },
  {
   "cell_type": "code",
   "execution_count": 20,
   "metadata": {},
   "outputs": [
    {
     "name": "stdout",
     "output_type": "stream",
     "text": [
      "\n",
      "\u001b[1m\u001b[38;5;232m\u001b[48;5;43m N E X T F L O W \u001b[0;2m  ~  \u001b[mversion 25.04.7\u001b[m\n",
      "\u001b[K\n",
      "Launching\u001b[35m `basic_channel_operations.nf` \u001b[0;2m[\u001b[0;1;36madmiring_waddington\u001b[0;2m] DSL2 - \u001b[36mrevision: \u001b[0;36m1ac517b261\u001b[m\n",
      "\u001b[K\n",
      "[1, V, f]\n",
      "[3, M, G]\n",
      "[2, O, L]\n"
     ]
    }
   ],
   "source": [
    "# Task 12 - Create a channel that joins the input to the output channel. What do you notice?\n",
    "!nextflow run basic_channel_operations.nf --step 12"
   ]
  },
  {
   "cell_type": "markdown",
   "metadata": {},
   "source": [
    "Task 12 - What do you notice compared to Task 11?\n",
    "- join pairs items from two channels based on matching keys (the first element of each tuple)\n",
    "- it does not group all values like in Task 11; instead, it produces one tuple per matching pair\n",
    "- each output is a flat list [key, left_value, right_value] rather than a key with a nested list of all associated values"
   ]
  },
  {
   "cell_type": "code",
   "execution_count": 21,
   "metadata": {},
   "outputs": [
    {
     "name": "stdout",
     "output_type": "stream",
     "text": [
      "\n",
      "\u001b[1m\u001b[38;5;232m\u001b[48;5;43m N E X T F L O W \u001b[0;2m  ~  \u001b[mversion 25.04.7\u001b[m\n",
      "\u001b[K\n",
      "Launching\u001b[35m `basic_channel_operations.nf` \u001b[0;2m[\u001b[0;1;36msick_swanson\u001b[0;2m] DSL2 - \u001b[36mrevision: \u001b[0;36m1ac517b261\u001b[m\n",
      "\u001b[K\n",
      "Even numbers: [2, 4, 6, 8, 10]\n",
      "Odd numbers: [1, 3, 5, 7, 9]\n"
     ]
    }
   ],
   "source": [
    "# Task 13 - Split the input channel into two channels, one of all the even numbers and the other of all the odd numbers.\n",
    "#           Write them to stdout including information about which is which\n",
    "!nextflow run basic_channel_operations.nf --step 13 -dump-channels"
   ]
  },
  {
   "cell_type": "code",
   "execution_count": 22,
   "metadata": {},
   "outputs": [
    {
     "name": "stdout",
     "output_type": "stream",
     "text": [
      "\n",
      "\u001b[1m\u001b[38;5;232m\u001b[48;5;43m N E X T F L O W \u001b[0;2m  ~  \u001b[mversion 25.04.7\u001b[m\n",
      "\u001b[K\n",
      "Launching\u001b[35m `basic_channel_operations.nf` \u001b[0;2m[\u001b[0;1;36msad_pike\u001b[0;2m] DSL2 - \u001b[36mrevision: \u001b[0;36m1ac517b261\u001b[m\n",
      "\u001b[K\n",
      "Harry\n",
      "Ron\n",
      "Hermione\n",
      "Albus\n",
      "Snape\n",
      "Hagrid\n",
      "Dobby\n",
      "Harry\n",
      "Ron\n",
      "Hermione\n",
      "Albus\n",
      "Snape\n",
      "Hagrid\n",
      "Dobby"
     ]
    }
   ],
   "source": [
    "# Task 14 - Nextflow has the concept of maps. Write the names in the maps in this channel to a file called \"names.txt\". Each name should be on a new line. \n",
    "#           Store the file in the \"results\" directory under the name \"names.txt\"\n",
    "\n",
    "!nextflow run basic_channel_operations.nf --step 14\n",
    "\n",
    "!cat results/names.txt\n"
   ]
  },
  {
   "cell_type": "markdown",
   "metadata": {},
   "source": [
    "Harry\n",
    "Ron\n",
    "Hermione\n",
    "Albus\n",
    "Snape\n",
    "Hagrid\n",
    "Dobby"
   ]
  },
  {
   "cell_type": "markdown",
   "metadata": {},
   "source": [
    "## Now that we learned about Channels and Operators to deal with them, let's focus on Processes that make use of these channels."
   ]
  },
  {
   "cell_type": "markdown",
   "metadata": {},
   "source": [
    "Please answer the questions in $\\texttt{basics\\_processes.nf}$ and run the code here. "
   ]
  },
  {
   "cell_type": "code",
   "execution_count": 23,
   "metadata": {},
   "outputs": [
    {
     "name": "stdout",
     "output_type": "stream",
     "text": [
      "\n",
      "\u001b[1m\u001b[38;5;232m\u001b[48;5;43m N E X T F L O W \u001b[0;2m  ~  \u001b[mversion 25.04.7\u001b[m\n",
      "\u001b[K\n",
      "Launching\u001b[35m `basics_processes.nf` \u001b[0;2m[\u001b[0;1;36mcompassionate_majorana\u001b[0;2m] DSL2 - \u001b[36mrevision: \u001b[0;36m7d368f1e2b\u001b[m\n",
      "\u001b[K\n",
      "\u001b[2m[\u001b[0;34m-        \u001b[0;2m] \u001b[0;2m\u001b[mSAYHELLO\u001b[2m |\u001b[m 0 of 1\u001b[K\n",
      "\u001b[2A\n",
      "\u001b[2mexecutor >  local (1)\u001b[m\u001b[K\n",
      "\u001b[2m[\u001b[0;34m35/264e7b\u001b[0;2m] \u001b[0;2m\u001b[mSAYHELLO\u001b[2m |\u001b[m 1 of 1\u001b[32m ✔\u001b[m\u001b[K\n",
      "Hello World!\u001b[K\n",
      "\u001b[K\n",
      "\n"
     ]
    }
   ],
   "source": [
    "# Task 1 - create a process that says Hello World! (add debug true to the process right after initializing to be sable to print the output to the console)\n",
    "!nextflow run basics_processes.nf --step 1"
   ]
  },
  {
   "cell_type": "code",
   "execution_count": 24,
   "metadata": {},
   "outputs": [
    {
     "name": "stdout",
     "output_type": "stream",
     "text": [
      "\n",
      "\u001b[1m\u001b[38;5;232m\u001b[48;5;43m N E X T F L O W \u001b[0;2m  ~  \u001b[mversion 25.04.7\u001b[m\n",
      "\u001b[K\n",
      "Launching\u001b[35m `basics_processes.nf` \u001b[0;2m[\u001b[0;1;36mbackstabbing_thompson\u001b[0;2m] DSL2 - \u001b[36mrevision: \u001b[0;36m7d368f1e2b\u001b[m\n",
      "\u001b[K\n",
      "\u001b[2m[\u001b[0;34m-        \u001b[0;2m] \u001b[0;2m\u001b[mSAYHELLO_PYTHON -\u001b[K\n",
      "\u001b[2A\n",
      "\u001b[2mexecutor >  local (1)\u001b[m\u001b[K\n",
      "\u001b[2m[\u001b[0;34m12/870dd1\u001b[0;2m] \u001b[0;2m\u001b[mSAYHELLO_PYTHON\u001b[2m |\u001b[m 1 of 1\u001b[32m ✔\u001b[m\u001b[K\n",
      "Hello World!\u001b[K\n",
      "\u001b[K\n",
      "\u001b[5A\n",
      "\u001b[2mexecutor >  local (1)\u001b[m\u001b[K\n",
      "\u001b[2m[\u001b[0;34m12/870dd1\u001b[0;2m] \u001b[0;2m\u001b[mSAYHELLO_PYTHON\u001b[2m |\u001b[m 1 of 1\u001b[32m ✔\u001b[m\u001b[K\n",
      "Hello World!\u001b[K\n",
      "\u001b[K\n",
      "\n"
     ]
    }
   ],
   "source": [
    "# Task 2 - create a process that says Hello World! using Python\n",
    "!nextflow run basics_processes.nf --step 2"
   ]
  },
  {
   "cell_type": "code",
   "execution_count": 25,
   "metadata": {},
   "outputs": [
    {
     "name": "stdout",
     "output_type": "stream",
     "text": [
      "\n",
      "\u001b[1m\u001b[38;5;232m\u001b[48;5;43m N E X T F L O W \u001b[0;2m  ~  \u001b[mversion 25.04.7\u001b[m\n",
      "\u001b[K\n",
      "Launching\u001b[35m `basics_processes.nf` \u001b[0;2m[\u001b[0;1;36minfallible_church\u001b[0;2m] DSL2 - \u001b[36mrevision: \u001b[0;36m7d368f1e2b\u001b[m\n",
      "\u001b[K\n",
      "\u001b[2m[\u001b[0;34m-        \u001b[0;2m] \u001b[0;2m\u001b[mSAYHELLO_PARAM -\u001b[K\n",
      "\u001b[2A\n",
      "\u001b[2mexecutor >  local (1)\u001b[m\u001b[K\n",
      "\u001b[2m[\u001b[0;34mc6/56488c\u001b[0;2m] \u001b[0;2m\u001b[mSAYHELLO_PARAM\u001b[33;2m (\u001b[0;33m1\u001b[2m)\u001b[m\u001b[2m |\u001b[m 1 of 1\u001b[32m ✔\u001b[m\u001b[K\n",
      "Hello world!\u001b[K\n",
      "\u001b[K\n",
      "\n"
     ]
    }
   ],
   "source": [
    "# Task 3 - create a process that reads in the string \"Hello world!\" from a channel and write it to command line\n",
    "!nextflow run basics_processes.nf --step 3"
   ]
  },
  {
   "cell_type": "code",
   "execution_count": 26,
   "metadata": {},
   "outputs": [
    {
     "name": "stdout",
     "output_type": "stream",
     "text": [
      "\n",
      "\u001b[1m\u001b[38;5;232m\u001b[48;5;43m N E X T F L O W \u001b[0;2m  ~  \u001b[mversion 25.04.7\u001b[m\n",
      "\u001b[K\n",
      "Launching\u001b[35m `basics_processes.nf` \u001b[0;2m[\u001b[0;1;36mberserk_wright\u001b[0;2m] DSL2 - \u001b[36mrevision: \u001b[0;36m7d368f1e2b\u001b[m\n",
      "\u001b[K\n",
      "\u001b[2m[\u001b[0;34m-        \u001b[0;2m] \u001b[0;2m\u001b[mSAYHELLO_FILE -\u001b[K\n",
      "\u001b[2A\n",
      "\u001b[2mexecutor >  local (1)\u001b[m\u001b[K\n",
      "\u001b[2m[\u001b[0;34mdd/9df0f1\u001b[0;2m] \u001b[0;2m\u001b[mSAYHELLO_FILE\u001b[33;2m (\u001b[0;33m1\u001b[2m)\u001b[m\u001b[2m |\u001b[m 1 of 1\u001b[32m ✔\u001b[m\u001b[K\n",
      "\u001b[3A\n",
      "\u001b[2mexecutor >  local (1)\u001b[m\u001b[K\n",
      "\u001b[2m[\u001b[0;34mdd/9df0f1\u001b[0;2m] \u001b[0;2m\u001b[mSAYHELLO_FILE\u001b[33;2m (\u001b[0;33m1\u001b[2m)\u001b[m\u001b[2m |\u001b[m 1 of 1\u001b[32m ✔\u001b[m\u001b[K\n",
      "\n"
     ]
    }
   ],
   "source": [
    "# Task 4 - create a process that reads in the string \"Hello world!\" from a channel and write it to a file. \n",
    "!nextflow run basics_processes.nf --step 4"
   ]
  },
  {
   "cell_type": "markdown",
   "metadata": {},
   "source": [
    "It might be that you created the file but it doesnt appear in the directory. Use the work folder and the output on the command line to find the file.\n",
    "\n",
    "- the file is in the work folder in the directory called dd/9df0f1 and in the results folder as sayhello_file.txt"
   ]
  },
  {
   "cell_type": "code",
   "execution_count": 27,
   "metadata": {},
   "outputs": [
    {
     "name": "stdout",
     "output_type": "stream",
     "text": [
      "\n",
      "\u001b[1m\u001b[38;5;232m\u001b[48;5;43m N E X T F L O W \u001b[0;2m  ~  \u001b[mversion 25.04.7\u001b[m\n",
      "\u001b[K\n",
      "Launching\u001b[35m `basics_processes.nf` \u001b[0;2m[\u001b[0;1;36mhappy_meninsky\u001b[0;2m] DSL2 - \u001b[36mrevision: \u001b[0;36m7d368f1e2b\u001b[m\n",
      "\u001b[K\n",
      "\u001b[2m[\u001b[0;34m-        \u001b[0;2m] \u001b[0;2m\u001b[mUPPERCASE -\u001b[K\n",
      "\u001b[2A\n",
      "\u001b[2mexecutor >  local (1)\u001b[m\u001b[K\n",
      "\u001b[2m[\u001b[0;34mc1/16eacb\u001b[0;2m] \u001b[0;2m\u001b[mUPPERCASE\u001b[33;2m (\u001b[0;33m1\u001b[2m)\u001b[m\u001b[2m |\u001b[m 0 of 1\u001b[K\n",
      "\u001b[3A\n",
      "\u001b[2mexecutor >  local (1)\u001b[m\u001b[K\n",
      "\u001b[2m[\u001b[0;34mc1/16eacb\u001b[0;2m] \u001b[0;2m\u001b[mUPPERCASE\u001b[33;2m (\u001b[0;33m1\u001b[2m)\u001b[m\u001b[2m |\u001b[m 1 of 1\u001b[32m ✔\u001b[m\u001b[K\n",
      "/mnt/c/Users/ulrik/Documents/Studium/Bioinformatik M.Sc/03 SoSe25/workflows/computational-workflows-2025/notebooks/day_04/work/c1/16eacb7bf4c9ff4045c1e13318adac/uppercase.txt\u001b[K\n",
      "\n"
     ]
    }
   ],
   "source": [
    "# Task 5 - create a process that reads in a string and converts it to uppercase and saves it to a file as output. View the path to the file in the console\n",
    "!nextflow run basics_processes.nf --step 5"
   ]
  },
  {
   "cell_type": "code",
   "execution_count": 28,
   "metadata": {},
   "outputs": [
    {
     "name": "stdout",
     "output_type": "stream",
     "text": [
      "\n",
      "\u001b[1m\u001b[38;5;232m\u001b[48;5;43m N E X T F L O W \u001b[0;2m  ~  \u001b[mversion 25.04.7\u001b[m\n",
      "\u001b[K\n",
      "Launching\u001b[35m `basics_processes.nf` \u001b[0;2m[\u001b[0;1;36mjolly_golick\u001b[0;2m] DSL2 - \u001b[36mrevision: \u001b[0;36m7d368f1e2b\u001b[m\n",
      "\u001b[K\n",
      "\u001b[2m[\u001b[0;34m-        \u001b[0;2m] \u001b[0;2m\u001b[mUPPERCASE  -\u001b[K\n",
      "\u001b[2m[\u001b[0;34m-        \u001b[0;2m] \u001b[0;2m\u001b[mPRINTUPPER -\u001b[K\n",
      "\u001b[3A\n",
      "\u001b[2mexecutor >  local (1)\u001b[m\u001b[K\n",
      "\u001b[2m[\u001b[0;34md0/ac45ed\u001b[0;2m] \u001b[0;2m\u001b[mUPPERCASE\u001b[33;2m (\u001b[0;33m1\u001b[2m)\u001b[m\u001b[2m |\u001b[m 0 of 1\u001b[K\n",
      "\u001b[2m[\u001b[0;34m-        \u001b[0;2m] \u001b[0;2m\u001b[mPRINTUPPER    -\u001b[K\n",
      "\u001b[4A\n",
      "\u001b[2mexecutor >  local (2)\u001b[m\u001b[K\n",
      "\u001b[2m[\u001b[0;34md0/ac45ed\u001b[0;2m] \u001b[0;2m\u001b[mUPPERCASE\u001b[33;2m (\u001b[0;33m1\u001b[2m)\u001b[m \u001b[2m |\u001b[m 1 of 1\u001b[32m ✔\u001b[m\u001b[K\n",
      "\u001b[2m[\u001b[0;34m5a/3c44c5\u001b[0;2m] \u001b[0;2m\u001b[mPRINTUPPER\u001b[33;2m (\u001b[0;33m1\u001b[2m)\u001b[m\u001b[2m |\u001b[m 1 of 1\u001b[32m ✔\u001b[m\u001b[K\n",
      "HELLO WORLD!\u001b[K\n",
      "\u001b[K\n",
      "\u001b[6A\n",
      "\u001b[2mexecutor >  local (2)\u001b[m\u001b[K\n",
      "\u001b[2m[\u001b[0;34md0/ac45ed\u001b[0;2m] \u001b[0;2m\u001b[mUPPERCASE\u001b[33;2m (\u001b[0;33m1\u001b[2m)\u001b[m \u001b[2m |\u001b[m 1 of 1\u001b[32m ✔\u001b[m\u001b[K\n",
      "\u001b[2m[\u001b[0;34m5a/3c44c5\u001b[0;2m] \u001b[0;2m\u001b[mPRINTUPPER\u001b[33;2m (\u001b[0;33m1\u001b[2m)\u001b[m\u001b[2m |\u001b[m 1 of 1\u001b[32m ✔\u001b[m\u001b[K\n",
      "HELLO WORLD!\u001b[K\n",
      "\u001b[K\n",
      "\n"
     ]
    }
   ],
   "source": [
    "# Task 6 - add another process that reads in the resulting file from UPPERCASE and print the content to the console (debug true).\n",
    "!nextflow run basics_processes.nf --step 6"
   ]
  },
  {
   "cell_type": "markdown",
   "metadata": {},
   "source": [
    "Compared to all the other runs. What changed in the output here and why?\n",
    "- The output is now written in Uppercase letters\n",
    "- This changed because we read in the file from UPPERCASE. The pipeline now consists of two processes that are executed after each other "
   ]
  },
  {
   "cell_type": "code",
   "execution_count": 29,
   "metadata": {},
   "outputs": [
    {
     "name": "stdout",
     "output_type": "stream",
     "text": [
      "\n",
      "\u001b[1m\u001b[38;5;232m\u001b[48;5;43m N E X T F L O W \u001b[0;2m  ~  \u001b[mversion 25.04.7\u001b[m\n",
      "\u001b[K\n",
      "Launching\u001b[35m `basics_processes.nf` \u001b[0;2m[\u001b[0;1;36mspecial_neumann\u001b[0;2m] DSL2 - \u001b[36mrevision: \u001b[0;36m7d368f1e2b\u001b[m\n",
      "\u001b[K\n",
      "\u001b[2m[\u001b[0;34m-        \u001b[0;2m] \u001b[0;2m\u001b[mUPPERCASE -\u001b[K\n",
      "\u001b[2m[\u001b[0;34m-        \u001b[0;2m] \u001b[0;2m\u001b[mZIPFILE   -\u001b[K\n",
      "\u001b[3A\n",
      "\u001b[2mexecutor >  local (2)\u001b[m\u001b[K\n",
      "\u001b[2m[\u001b[0;34meb/fafb2d\u001b[0;2m] \u001b[0;2m\u001b[mUPPERCASE\u001b[33;2m (\u001b[0;33m1\u001b[2m)\u001b[m\u001b[2m |\u001b[m 1 of 1\u001b[32m ✔\u001b[m\u001b[K\n",
      "\u001b[2m[\u001b[0;34m93/3a4025\u001b[0;2m] \u001b[0;2m\u001b[mZIPFILE\u001b[33;2m (\u001b[0;33m1\u001b[2m)\u001b[m  \u001b[2m |\u001b[m 0 of 1\u001b[K\n",
      "\u001b[4A\n",
      "\u001b[2mexecutor >  local (2)\u001b[m\u001b[K\n",
      "\u001b[2m[\u001b[0;34meb/fafb2d\u001b[0;2m] \u001b[0;2m\u001b[mUPPERCASE\u001b[33;2m (\u001b[0;33m1\u001b[2m)\u001b[m\u001b[2m |\u001b[m 1 of 1\u001b[32m ✔\u001b[m\u001b[K\n",
      "\u001b[2m[\u001b[0;34m93/3a4025\u001b[0;2m] \u001b[0;2m\u001b[mZIPFILE\u001b[33;2m (\u001b[0;33m1\u001b[2m)\u001b[m  \u001b[2m |\u001b[m 1 of 1\u001b[32m ✔\u001b[m\u001b[K\n",
      "/mnt/c/Users/ulrik/Documents/Studium/Bioinformatik M.Sc/03 SoSe25/workflows/computational-workflows-2025/notebooks/day_04/work/93/3a4025c41157e820910a15e1231c93/zipfile.zip\u001b[K\n",
      "  adding: uppercase.txt (stored 0%)\u001b[K\n",
      "\u001b[K\n",
      "\n"
     ]
    }
   ],
   "source": [
    "# Task 7 - based on the paramater \"zip\" (see at the head of the file), create a process that zips the file created in the UPPERCASE process either in \"zip\", \"gzip\" OR \"bzip2\" format.\n",
    "#          Print out the path to the zipped file in the console\n",
    "!nextflow run basics_processes.nf --step 7"
   ]
  },
  {
   "cell_type": "code",
   "execution_count": 30,
   "metadata": {},
   "outputs": [
    {
     "name": "stdout",
     "output_type": "stream",
     "text": [
      "\n",
      "\u001b[1m\u001b[38;5;232m\u001b[48;5;43m N E X T F L O W \u001b[0;2m  ~  \u001b[mversion 25.04.7\u001b[m\n",
      "\u001b[K\n",
      "Launching\u001b[35m `basics_processes.nf` \u001b[0;2m[\u001b[0;1;36mmad_poisson\u001b[0;2m] DSL2 - \u001b[36mrevision: \u001b[0;36m7d368f1e2b\u001b[m\n",
      "\u001b[K\n",
      "\u001b[2m[\u001b[0;34m-        \u001b[0;2m] \u001b[0;2m\u001b[mUPPERCASE     -\u001b[K\n",
      "\u001b[2m[\u001b[0;34m-        \u001b[0;2m] \u001b[0;2m\u001b[mMORE_ZIPFILES -\u001b[K\n",
      "\u001b[3A\n",
      "\u001b[2mexecutor >  local (1)\u001b[m\u001b[K\n",
      "\u001b[2m[\u001b[0;34mf1/27c77d\u001b[0;2m] \u001b[0;2m\u001b[mUPPERCASE\u001b[33;2m (\u001b[0;33m1\u001b[2m)\u001b[m\u001b[2m |\u001b[m 0 of 1\u001b[K\n",
      "\u001b[2m[\u001b[0;34m-        \u001b[0;2m] \u001b[0;2m\u001b[mMORE_ZIPFILES -\u001b[K\n",
      "\u001b[4A\n",
      "\u001b[2mexecutor >  local (2)\u001b[m\u001b[K\n",
      "\u001b[2m[\u001b[0;34mf1/27c77d\u001b[0;2m] \u001b[0;2m\u001b[mUPPERCASE\u001b[33;2m (\u001b[0;33m1\u001b[2m)\u001b[m    \u001b[2m |\u001b[m 1 of 1\u001b[32m ✔\u001b[m\u001b[K\n",
      "\u001b[2m[\u001b[0;34m2f/34edbb\u001b[0;2m] \u001b[0;2m\u001b[mMORE_ZIPFILES\u001b[33;2m (\u001b[0;33m1\u001b[2m)\u001b[m\u001b[2m |\u001b[m 0 of 1\u001b[K\n",
      "\u001b[4A\n",
      "\u001b[2mexecutor >  local (2)\u001b[m\u001b[K\n",
      "\u001b[2m[\u001b[0;34mf1/27c77d\u001b[0;2m] \u001b[0;2m\u001b[mUPPERCASE\u001b[33;2m (\u001b[0;33m1\u001b[2m)\u001b[m    \u001b[2m |\u001b[m 1 of 1\u001b[32m ✔\u001b[m\u001b[K\n",
      "\u001b[2m[\u001b[0;34m2f/34edbb\u001b[0;2m] \u001b[0;2m\u001b[mMORE_ZIPFILES\u001b[33;2m (\u001b[0;33m1\u001b[2m)\u001b[m\u001b[2m |\u001b[m 1 of 1\u001b[32m ✔\u001b[m\u001b[K\n",
      "[/mnt/c/Users/ulrik/Documents/Studium/Bioinformatik M.Sc/03 SoSe25/workflows/computational-workflows-2025/notebooks/day_04/work/2f/34edbb9c95432fceb88af11238b477/more_zipfiles.bz2, /mnt/c/Users/ulrik/Documents/Studium/Bioinformatik M.Sc/03 SoSe25/workflows/computational-workflows-2025/notebooks/day_04/work/2f/34edbb9c95432fceb88af11238b477/more_zipfiles.gz, /mnt/c/Users/ulrik/Documents/Studium/Bioinformatik M.Sc/03 SoSe25/workflows/computational-workflows-2025/notebooks/day_04/work/2f/34edbb9c95432fceb88af11238b477/more_zipfiles.zip]\u001b[K\n",
      "  adding: uppercase.txt (stored 0%)\u001b[K\n",
      "\u001b[K\n",
      "\n"
     ]
    }
   ],
   "source": [
    "# Task 8 - Create a process that zips the file created in the UPPERCASE process in \"zip\", \"gzip\" AND \"bzip2\" format. Print out the paths to the zipped files in the console\n",
    "!nextflow run basics_processes.nf --step 8"
   ]
  },
  {
   "cell_type": "code",
   "execution_count": 37,
   "metadata": {},
   "outputs": [
    {
     "name": "stdout",
     "output_type": "stream",
     "text": [
      "\n",
      "\u001b[1m\u001b[38;5;232m\u001b[48;5;43m N E X T F L O W \u001b[0;2m  ~  \u001b[mversion 25.04.7\u001b[m\n",
      "\u001b[K\n",
      "Launching\u001b[35m `basics_processes.nf` \u001b[0;2m[\u001b[0;1;36mhungry_kalman\u001b[0;2m] DSL2 - \u001b[36mrevision: \u001b[0;36m74353ed84d\u001b[m\n",
      "\u001b[K\n",
      "\u001b[2m[\u001b[0;34m-        \u001b[0;2m] \u001b[0;2m\u001b[mWRITETOFILE -\u001b[K\n",
      "\u001b[2A\n",
      "\u001b[2mexecutor >  local (1)\u001b[m\u001b[K\n",
      "\u001b[2m[\u001b[0;34mdb/a3adf2\u001b[0;2m] \u001b[0;2m\u001b[mWRITETOFILE\u001b[2m |\u001b[m 0 of 1\u001b[K\n",
      "\u001b[3A\n",
      "\u001b[2mexecutor >  local (1)\u001b[m\u001b[K\n",
      "\u001b[2m[\u001b[0;34mdb/a3adf2\u001b[0;2m] \u001b[0;2m\u001b[mWRITETOFILE\u001b[2m |\u001b[m 1 of 1\u001b[32m ✔\u001b[m\u001b[K\n",
      "\n"
     ]
    }
   ],
   "source": [
    " # Task 9 - Create a process that reads in a list of names and titles from a channel and writes them to a file.\n",
    "#           Store the file in the \"results\" directory under the name \"names.tsv\"\n",
    "!nextflow run basics_processes.nf --step 9"
   ]
  },
  {
   "cell_type": "code",
   "execution_count": 38,
   "metadata": {},
   "outputs": [
    {
     "data": {
      "text/html": [
       "<div>\n",
       "<style scoped>\n",
       "    .dataframe tbody tr th:only-of-type {\n",
       "        vertical-align: middle;\n",
       "    }\n",
       "\n",
       "    .dataframe tbody tr th {\n",
       "        vertical-align: top;\n",
       "    }\n",
       "\n",
       "    .dataframe thead th {\n",
       "        text-align: right;\n",
       "    }\n",
       "</style>\n",
       "<table border=\"1\" class=\"dataframe\">\n",
       "  <thead>\n",
       "    <tr style=\"text-align: right;\">\n",
       "      <th></th>\n",
       "      <th>name</th>\n",
       "      <th>title</th>\n",
       "    </tr>\n",
       "  </thead>\n",
       "  <tbody>\n",
       "    <tr>\n",
       "      <th>0</th>\n",
       "      <td>Harry</td>\n",
       "      <td>student</td>\n",
       "    </tr>\n",
       "    <tr>\n",
       "      <th>1</th>\n",
       "      <td>Ron</td>\n",
       "      <td>student</td>\n",
       "    </tr>\n",
       "    <tr>\n",
       "      <th>2</th>\n",
       "      <td>Hermione</td>\n",
       "      <td>student</td>\n",
       "    </tr>\n",
       "    <tr>\n",
       "      <th>3</th>\n",
       "      <td>Albus</td>\n",
       "      <td>headmaster</td>\n",
       "    </tr>\n",
       "    <tr>\n",
       "      <th>4</th>\n",
       "      <td>Snape</td>\n",
       "      <td>teacher</td>\n",
       "    </tr>\n",
       "    <tr>\n",
       "      <th>5</th>\n",
       "      <td>Hagrid</td>\n",
       "      <td>groundkeeper</td>\n",
       "    </tr>\n",
       "    <tr>\n",
       "      <th>6</th>\n",
       "      <td>Dobby</td>\n",
       "      <td>hero</td>\n",
       "    </tr>\n",
       "  </tbody>\n",
       "</table>\n",
       "</div>"
      ],
      "text/plain": [
       "       name         title\n",
       "0     Harry       student\n",
       "1       Ron       student\n",
       "2  Hermione       student\n",
       "3     Albus    headmaster\n",
       "4     Snape       teacher\n",
       "5    Hagrid  groundkeeper\n",
       "6     Dobby          hero"
      ]
     },
     "execution_count": 38,
     "metadata": {},
     "output_type": "execute_result"
    }
   ],
   "source": [
    "import pandas as pd\n",
    "\n",
    "df = pd.read_csv(\"results/names.tsv\", sep=\"\\t\")\n",
    "df"
   ]
  },
  {
   "cell_type": "markdown",
   "metadata": {},
   "source": [
    "## Now, let's try some more advanced Operators"
   ]
  },
  {
   "cell_type": "markdown",
   "metadata": {},
   "source": [
    "Please answer the questions in $\\texttt{advanced\\_channel\\_operations.nf}$ and run the code here. "
   ]
  },
  {
   "cell_type": "markdown",
   "metadata": {},
   "source": [
    "To come closer to actual pipelines, we introduce the concept of \"meta-maps\" which you can imagine as dictionaries that are passed with data via channels containing crucial metadata on the sample. \n",
    "\n",
    "Also, we will come back to samplesheets which you should remember from last week."
   ]
  },
  {
   "cell_type": "code",
   "execution_count": 40,
   "metadata": {},
   "outputs": [
    {
     "name": "stdout",
     "output_type": "stream",
     "text": [
      "\n",
      "\u001b[1m\u001b[38;5;232m\u001b[48;5;43m N E X T F L O W \u001b[0;2m  ~  \u001b[mversion 25.04.7\u001b[m\n",
      "\u001b[K\n",
      "Launching\u001b[35m `advanced_channel_operations.nf` \u001b[0;2m[\u001b[0;1;36mmarvelous_brown\u001b[0;2m] DSL2 - \u001b[36mrevision: \u001b[0;36me61c7ff567\u001b[m\n",
      "\u001b[K\n",
      "[sample:Sham_oxy_1, condition:Sham_oxy]\n",
      "[sample:Sham_oxy_2, condition:Sham_oxy]\n",
      "[sample:Sham_oxy_3, condition:Sham_oxy]\n",
      "[sample:Sham_oxy_4, condition:Sham_oxy]\n",
      "[sample:Sham_Sal_1, condition:Sham_Sal]\n",
      "[sample:Sham_Sal_2, condition:Sham_Sal]\n",
      "[sample:Sham_Sal_3, condition:Sham_Sal]\n",
      "[sample:Sham_Sal_4, condition:Sham_Sal\t]\n",
      "[sample:SNI_oxy_1, condition:SNI_oxy]\n",
      "[sample:SNI_oxy_2, condition:SNI_oxy]\n",
      "[sample:SNI_oxy_3, condition:SNI_oxy]\n",
      "[sample:SNI_oxy_4, condition:SNI_oxy\t]\n",
      "[sample:SNI_Sal_1, condition:SNI_Sal]\n",
      "[sample:SNI_Sal_2, condition:SNI_Sal]\n",
      "[sample:SNI_Sal_3, condition:SNI_Sal]\n",
      "[sample:SNI_Sal_4, condition:SNI_Sal]\n"
     ]
    }
   ],
   "source": [
    "# Task 1 - Read in the samplesheet.\n",
    "\n",
    "!nextflow run advanced_channel_operations.nf --step 1"
   ]
  },
  {
   "cell_type": "code",
   "execution_count": null,
   "metadata": {},
   "outputs": [],
   "source": [
    "# Task 2 - Read in the samplesheet and create a meta-map with all metadata and another list with the filenames ([[metadata_1 : metadata_1, ...], [fastq_1, fastq_2]]).\n",
    "#          Set the output to a new channel \"in_ch\" and view the channel. YOU WILL NEED TO COPY AND PASTE THIS CODE INTO SOME OF THE FOLLOWING TASKS (sorry for that).\n",
    "\n",
    "!nextflow run advanced_channel_operations.nf --step 2"
   ]
  },
  {
   "cell_type": "code",
   "execution_count": null,
   "metadata": {},
   "outputs": [],
   "source": [
    "# Task 3 - Now we assume that we want to handle different \"strandedness\" values differently. \n",
    "#          Split the channel into the right amount of channels and write them all to stdout so that we can understand which is which.\n",
    "\n",
    "!nextflow run advanced_channel_operations.nf --step 3 -dump-channels"
   ]
  },
  {
   "cell_type": "code",
   "execution_count": null,
   "metadata": {},
   "outputs": [],
   "source": [
    "# Task 4 - Group together all files with the same sample-id and strandedness value.\n",
    "\n",
    "!nextflow run advanced_channel_operations.nf --step 4"
   ]
  },
  {
   "cell_type": "markdown",
   "metadata": {},
   "source": [
    "## It's finally time to link processes and channels with each other"
   ]
  },
  {
   "cell_type": "markdown",
   "metadata": {},
   "source": [
    "Please go to the file $\\texttt{link\\_p\\_c.nf}$"
   ]
  },
  {
   "cell_type": "code",
   "execution_count": null,
   "metadata": {},
   "outputs": [],
   "source": [
    "!nextflow run link_p_c.nf"
   ]
  },
  {
   "cell_type": "markdown",
   "metadata": {},
   "source": [
    "### Give a list with the paths to the chunk files"
   ]
  },
  {
   "cell_type": "code",
   "execution_count": null,
   "metadata": {},
   "outputs": [],
   "source": []
  },
  {
   "cell_type": "markdown",
   "metadata": {},
   "source": [
    "### Why was CONVERTTOUPPER run so often?"
   ]
  },
  {
   "cell_type": "code",
   "execution_count": null,
   "metadata": {},
   "outputs": [],
   "source": []
  },
  {
   "cell_type": "code",
   "execution_count": null,
   "metadata": {},
   "outputs": [],
   "source": []
  },
  {
   "cell_type": "code",
   "execution_count": null,
   "metadata": {},
   "outputs": [],
   "source": []
  },
  {
   "cell_type": "code",
   "execution_count": null,
   "metadata": {},
   "outputs": [],
   "source": []
  },
  {
   "cell_type": "code",
   "execution_count": null,
   "metadata": {},
   "outputs": [],
   "source": []
  },
  {
   "cell_type": "code",
   "execution_count": null,
   "metadata": {},
   "outputs": [],
   "source": []
  },
  {
   "cell_type": "code",
   "execution_count": null,
   "metadata": {},
   "outputs": [],
   "source": []
  },
  {
   "cell_type": "code",
   "execution_count": null,
   "metadata": {},
   "outputs": [],
   "source": []
  },
  {
   "cell_type": "code",
   "execution_count": null,
   "metadata": {},
   "outputs": [],
   "source": []
  },
  {
   "cell_type": "code",
   "execution_count": null,
   "metadata": {},
   "outputs": [],
   "source": []
  },
  {
   "cell_type": "code",
   "execution_count": null,
   "metadata": {},
   "outputs": [],
   "source": []
  },
  {
   "cell_type": "code",
   "execution_count": null,
   "metadata": {},
   "outputs": [],
   "source": []
  }
 ],
 "metadata": {
  "kernelspec": {
   "display_name": "workflows_SS25_env",
   "language": "python",
   "name": "python3"
  },
  "language_info": {
   "codemirror_mode": {
    "name": "ipython",
    "version": 3
   },
   "file_extension": ".py",
   "mimetype": "text/x-python",
   "name": "python",
   "nbconvert_exporter": "python",
   "pygments_lexer": "ipython3",
   "version": "3.13.7"
  }
 },
 "nbformat": 4,
 "nbformat_minor": 2
}
