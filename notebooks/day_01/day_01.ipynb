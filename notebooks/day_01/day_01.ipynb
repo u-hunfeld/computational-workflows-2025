{
 "cells": [
  {
   "cell_type": "markdown",
   "metadata": {},
   "source": [
    "# Computational Workflows for biomedical data"
   ]
  },
  {
   "cell_type": "markdown",
   "metadata": {},
   "source": [
    "Welcome to the course Computational Workflows for Biomedical Data. Over the next two weeks, you will learn how to leverage nf-core pipelines to analyze biomedical data and gain hands-on experience in creating your own pipelines, with a strong emphasis on Nextflow and nf-core.\n",
    "\n",
    "Course Structure:\n",
    "\n",
    "- Week 1: You will use a variety of nf-core pipelines to analyze a publicly available biomedical study.\n",
    "- Week 2: We will shift focus to learning the basics of Nextflow, enabling you to design and implement your own computational workflows.<br>\n",
    "- Final Project: The last couple of days, you will apply your knowledge to create a custom pipeline for analyzing biomedical data using Nextflow and the nf-core template."
   ]
  },
  {
   "cell_type": "markdown",
   "metadata": {},
   "source": [
    "## Basics\n",
    "\n",
    "If you have not installed all required software, please do so now asap!\n",
    "\n",
    "\n",
    "If you already installed all software, please go on and start answering the questions in this notebook. If you have any questions, don't hesitate to approach us."
   ]
  },
  {
   "cell_type": "markdown",
   "metadata": {},
   "source": [
    "1. What is nf-core?"
   ]
  },
  {
   "cell_type": "markdown",
   "metadata": {
    "vscode": {
     "languageId": "plaintext"
    }
   },
   "source": [
    "nf-core aims to collect / develop and maintain pipelines to use in bioinformatics that are reproducible and usable across institutions. The pipelines should follow the FAIR guidelines (findable, accessible, interoperable and reusable) and are intended to simplify the process of finding and analysing data.\n",
    "\n",
    "Source: Ewels, P.A., Peltzer, A., Fillinger, S. et al. The nf-core framework for community-curated bioinformatics pipelines. Nat Biotechnol 38, 276–278 (2020). https://doi.org/10.1038/s41587-020-0439-x"
   ]
  },
  {
   "cell_type": "markdown",
   "metadata": {},
   "source": [
    "2. How many pipelines are there currently in nf-core?"
   ]
  },
  {
   "cell_type": "markdown",
   "metadata": {},
   "source": [
    "There are 139 pipelines currently: 84 released ones, 43 under development and 12 archived. \n",
    "\n",
    "Source: https://nf-co.re/pipelines/ "
   ]
  },
  {
   "cell_type": "markdown",
   "metadata": {},
   "source": [
    "3. Are there any non-bioinformatic pipelines in nf-core?"
   ]
  },
  {
   "cell_type": "markdown",
   "metadata": {},
   "source": [
    "Yes, there are some pipelines that are not strictly in the field of bioinformatics, although they are in related or neighboring fields. For example there are pipelines more focused on handling data tasks (f.e. a pipeline called datasync) or pipelines for astronomy data (rangelands) or for a simulation of the Industrial Revolution (spinningjenny). \n",
    "\n",
    "Source: https://nf-co.re/pipelines/ "
   ]
  },
  {
   "cell_type": "markdown",
   "metadata": {},
   "source": [
    "4. Let's go back a couple of steps. What is a pipeline and what do we use it for?"
   ]
  },
  {
   "cell_type": "markdown",
   "metadata": {},
   "source": [
    "A pipeline is a series of tools to collect and analyse data, which are connected to each other "
   ]
  },
  {
   "cell_type": "markdown",
   "metadata": {},
   "source": [
    "5. Why do you think nf-core adheres to strict guidelines?"
   ]
  },
  {
   "cell_type": "markdown",
   "metadata": {},
   "source": [
    "Adhereing to strict guidelines simplifies the accessibility and usability of the pipelines across differents users. "
   ]
  },
  {
   "cell_type": "markdown",
   "metadata": {
    "vscode": {
     "languageId": "plaintext"
    }
   },
   "source": [
    "6. What are the main features of nf-core pipelines?"
   ]
  },
  {
   "cell_type": "markdown",
   "metadata": {},
   "source": [
    "nf-core pipelines are documented, have stable releases, are open source, uses continuous-integration testing when changes are made, are runnable on most devices, and has packaged software. \n",
    "\n",
    "Source: https://nf-co.re/ "
   ]
  },
  {
   "cell_type": "markdown",
   "metadata": {
    "vscode": {
     "languageId": "plaintext"
    }
   },
   "source": [
    "## Let's start using the pipelines"
   ]
  },
  {
   "cell_type": "markdown",
   "metadata": {},
   "source": [
    "1. Find the nf-core pipeline used to measure differential abundance of genes"
   ]
  },
  {
   "cell_type": "markdown",
   "metadata": {},
   "source": [
    "Searching for \"differential abundance\" on the https://nf-co.re/pipelines/ website leads to the pipeline called differentialabundance. "
   ]
  },
  {
   "cell_type": "code",
   "execution_count": null,
   "metadata": {},
   "outputs": [],
   "source": [
    "# run the pipeline in a cell \n",
    "# to run bash in jupyter notebooks, simply use ! before the command\n",
    "# e.g.\n",
    "\n",
    "!pwd\n",
    "\n",
    "\n",
    "# For the tasks in the first week, please use the command line to run your commands and simply paste the commands you used in the respective cells!\n"
   ]
  },
  {
   "cell_type": "code",
   "execution_count": null,
   "metadata": {},
   "outputs": [],
   "source": [
    "# run the pipeline in the test profile using docker containers\n",
    "# make sure to specify the version you want to use (use the latest one)\n",
    "\n",
    "!nextflow run nf-core/differentialabundance -r 1.5.0 -profile test,docker --outdir out_day01\n"
   ]
  },
  {
   "cell_type": "markdown",
   "metadata": {},
   "source": [
    "Run in Command Line, Output: \n",
    "...\n",
    "executor >  local (21)\n",
    "[85/bb7fb7] NFC…E:DIFFERENTIALABUNDANCE:GUNZIP_GTF (Mus_musculus.GRCm38.81.gtf.gz) | 1 of 1 ✔\n",
    "[89/f45ee7] NFC…RENTIALABUNDANCE:DIFFERENTIALABUNDANCE:GTF_TO_TABLE (Mus_musculus) | 1 of 1 ✔\n",
    "[b5/7b1f15] NFC…NDANCE:DIFFERENTIALABUNDANCE:VALIDATOR (SRP254919.samplesheet.csv) | 1 of 1 ✔\n",
    "[bb/86136e] NFC…UNDANCE:DIFFERENTIALABUNDANCE:CUSTOM_MATRIXFILTER ([id:SRP254919]) | 1 of 1 ✔\n",
    "[01/6bc588] NFC…_, variable:treatment, reference:mCherry, target:hND6, blocking:]) | 1 of 1 ✔\n",
    "[f9/546a3c] NFC…reatment, reference:mCherry, target:hND6, blocking:sample_number]) | 2 of 2 ✔\n",
    "[61/81518b] NFC…E_DIFFERENTIALABUNDANCE:DIFFERENTIALABUNDANCE:FILTER_DIFFTABLE (2) | 2 of 2 ✔\n",
    "[e8/1c8d5b] NFC…RENTIALABUNDANCE:CUSTOM_TABULARTOGSEAGCT (treatment_mCherry_hND6_) | 1 of 1 ✔\n",
    "[eb/cdae24] NFC…RENTIALABUNDANCE:CUSTOM_TABULARTOGSEACLS (treatment_mCherry_hND6_) | 2 of 2 ✔\n",
    "[b7/7f2df2] NFC…FFERENTIALABUNDANCE:DIFFERENTIALABUNDANCE:TABULAR_TO_GSEA_CHIP (1) | 1 of 1 ✔\n",
    "[bf/32c841] NFC…ERENTIALABUNDANCE:GSEA_GSEA (treatment_mCherry_hND6_sample_number) | 2 of 2 ✔\n",
    "[54/fa29e2] NFC…ENTIALABUNDANCE:DIFFERENTIALABUNDANCE:PLOT_EXPLORATORY (treatment) | 1 of 1 ✔\n",
    "[b1/cce3c2] NFC…ABUNDANCE:PLOT_DIFFERENTIAL (treatment_mCherry_hND6_sample_number) | 2 of 2 ✔\n",
    "[03/7c74b4] NFC…FFERENTIALABUNDANCE:DIFFERENTIALABUNDANCE:SHINYNGS_APP (SRP254919) | 1 of 1 ✔\n",
    "[47/320420] NFC…NTIALABUNDANCE:DIFFERENTIALABUNDANCE:RMARKDOWNNOTEBOOK (SRP254919) | 1 of 1 ✔\n",
    "[06/4e995c] NFC…TIALABUNDANCE:DIFFERENTIALABUNDANCE:MAKE_REPORT_BUNDLE (SRP254919) | 1 of 1 ✔\n",
    "Completed at: 29-Sep-2025 12:21:51\n",
    "Duration    : 10m 24s\n",
    "CPU hours   : 0.1\n",
    "Succeeded   : 21"
   ]
  },
  {
   "cell_type": "code",
   "execution_count": null,
   "metadata": {},
   "outputs": [],
   "source": [
    "# repeat the run. What did change?\n",
    "\n",
    "!nextflow run nf-core/differentialabundance -r 1.5.0 -profile test,docker --outdir out_day01_run2\n",
    "\n"
   ]
  },
  {
   "cell_type": "markdown",
   "metadata": {},
   "source": [
    "Output: \n",
    "...\n",
    "executor >  local (21)\n",
    "[fc/7784c8] NFC…E:DIFFERENTIALABUNDANCE:GUNZIP_GTF (Mus_musculus.GRCm38.81.gtf.gz) | 1 of 1 ✔\n",
    "[f7/47a68a] NFC…RENTIALABUNDANCE:DIFFERENTIALABUNDANCE:GTF_TO_TABLE (Mus_musculus) | 1 of 1 ✔\n",
    "[84/c80c75] NFC…NDANCE:DIFFERENTIALABUNDANCE:VALIDATOR (SRP254919.samplesheet.csv) | 1 of 1 ✔\n",
    "[8e/7cb2d1] NFC…UNDANCE:DIFFERENTIALABUNDANCE:CUSTOM_MATRIXFILTER ([id:SRP254919]) | 1 of 1 ✔\n",
    "[5e/0e3ac8] NFC…_, variable:treatment, reference:mCherry, target:hND6, blocking:]) | 1 of 1 ✔\n",
    "[53/991ba3] NFC…_, variable:treatment, reference:mCherry, target:hND6, blocking:]) | 2 of 2 ✔\n",
    "[55/6389c6] NFC…E_DIFFERENTIALABUNDANCE:DIFFERENTIALABUNDANCE:FILTER_DIFFTABLE (2) | 2 of 2 ✔\n",
    "[68/470bcb] NFC…RENTIALABUNDANCE:CUSTOM_TABULARTOGSEAGCT (treatment_mCherry_hND6_) | 1 of 1 ✔\n",
    "[b9/ac38e3] NFC…RENTIALABUNDANCE:CUSTOM_TABULARTOGSEACLS (treatment_mCherry_hND6_) | 2 of 2 ✔\n",
    "[28/7ade8c] NFC…FFERENTIALABUNDANCE:DIFFERENTIALABUNDANCE:TABULAR_TO_GSEA_CHIP (1) | 1 of 1 ✔\n",
    "[44/95dbb2] NFC…BUNDANCE:DIFFERENTIALABUNDANCE:GSEA_GSEA (treatment_mCherry_hND6_) | 2 of 2 ✔\n",
    "[35/03c07a] NFC…ENTIALABUNDANCE:DIFFERENTIALABUNDANCE:PLOT_EXPLORATORY (treatment) | 1 of 1 ✔\n",
    "[2b/8ca703] NFC…:DIFFERENTIALABUNDANCE:PLOT_DIFFERENTIAL (treatment_mCherry_hND6_) | 2 of 2 ✔\n",
    "[cc/5a70ce] NFC…FFERENTIALABUNDANCE:DIFFERENTIALABUNDANCE:SHINYNGS_APP (SRP254919) | 1 of 1 ✔\n",
    "[4b/e7962b] NFC…NTIALABUNDANCE:DIFFERENTIALABUNDANCE:RMARKDOWNNOTEBOOK (SRP254919) | 1 of 1 ✔\n",
    "[a8/b31e8b] NFC…TIALABUNDANCE:DIFFERENTIALABUNDANCE:MAKE_REPORT_BUNDLE (SRP254919) | 1 of 1 ✔\n",
    "Completed at: 29-Sep-2025 12:29:03\n",
    "Duration    : 4m 9s\n",
    "CPU hours   : 0.1\n",
    "Succeeded   : 21\n",
    "\n",
    "What did change? \n",
    "- the second run took about half the time of the first run\n"
   ]
  },
  {
   "cell_type": "code",
   "execution_count": null,
   "metadata": {},
   "outputs": [],
   "source": [
    "# now set -resume to the command. What did change?\n",
    "\n",
    "!nextflow run nf-core/differentialabundance -r 1.5.0 -profile test,docker --outdir out_day01_run3 -resume"
   ]
  },
  {
   "cell_type": "markdown",
   "metadata": {},
   "source": [
    "Output: \n",
    "...\n",
    "executor >  local (3)\n",
    "[fc/7784c8] NFC…E:DIFFERENTIALABUNDANCE:GUNZIP_GTF (Mus_musculus.GRCm38.81.gtf.gz) | 1 of 1, cached: 1 ✔\n",
    "[f7/47a68a] NFC…RENTIALABUNDANCE:DIFFERENTIALABUNDANCE:GTF_TO_TABLE (Mus_musculus) | 1 of 1, cached: 1 ✔\n",
    "[84/c80c75] NFC…NDANCE:DIFFERENTIALABUNDANCE:VALIDATOR (SRP254919.samplesheet.csv) | 1 of 1, cached: 1 ✔\n",
    "[8e/7cb2d1] NFC…UNDANCE:DIFFERENTIALABUNDANCE:CUSTOM_MATRIXFILTER ([id:SRP254919]) | 1 of 1, cached: 1 ✔\n",
    "[5e/0e3ac8] NFC…_, variable:treatment, reference:mCherry, target:hND6, blocking:]) | 1 of 1, cached: 1 ✔\n",
    "[00/e9ca25] NFC…reatment, reference:mCherry, target:hND6, blocking:sample_number]) | 2 of 2, cached: 2 ✔\n",
    "[52/a2ec0f] NFC…E_DIFFERENTIALABUNDANCE:DIFFERENTIALABUNDANCE:FILTER_DIFFTABLE (2) | 2 of 2, cached: 2 ✔\n",
    "[68/470bcb] NFC…RENTIALABUNDANCE:CUSTOM_TABULARTOGSEAGCT (treatment_mCherry_hND6_) | 1 of 1, cached: 1 ✔\n",
    "[b9/ac38e3] NFC…RENTIALABUNDANCE:CUSTOM_TABULARTOGSEACLS (treatment_mCherry_hND6_) | 2 of 2, cached: 2 ✔\n",
    "[28/7ade8c] NFC…FFERENTIALABUNDANCE:DIFFERENTIALABUNDANCE:TABULAR_TO_GSEA_CHIP (1) | 1 of 1, cached: 1 ✔\n",
    "[be/7a2226] NFC…ERENTIALABUNDANCE:GSEA_GSEA (treatment_mCherry_hND6_sample_number) | 2 of 2, cached: 2 ✔\n",
    "[35/03c07a] NFC…ENTIALABUNDANCE:DIFFERENTIALABUNDANCE:PLOT_EXPLORATORY (treatment) | 1 of 1, cached: 1 ✔\n",
    "[2b/8ca703] NFC…:DIFFERENTIALABUNDANCE:PLOT_DIFFERENTIAL (treatment_mCherry_hND6_) | 2 of 2, cached: 2 ✔\n",
    "[72/f64022] NFC…FFERENTIALABUNDANCE:DIFFERENTIALABUNDANCE:SHINYNGS_APP (SRP254919) | 1 of 1 ✔\n",
    "[63/4b990a] NFC…NTIALABUNDANCE:DIFFERENTIALABUNDANCE:RMARKDOWNNOTEBOOK (SRP254919) | 1 of 1 ✔\n",
    "[e2/dedeab] NFC…TIALABUNDANCE:DIFFERENTIALABUNDANCE:MAKE_REPORT_BUNDLE (SRP254919) | 1 of 1 ✔\n",
    "\n",
    "What did change? \n",
    "- significantly faster\n",
    "- most files are annotated as cached\n"
   ]
  },
  {
   "cell_type": "markdown",
   "metadata": {},
   "source": [
    "Check out the current directory. Next to the outdir you specified, what else has changed?"
   ]
  },
  {
   "cell_type": "markdown",
   "metadata": {},
   "source": [
    "There is now a work directory (I am actually not sure if it appeared now or already while some tests on how to run nextflow)"
   ]
  },
  {
   "cell_type": "code",
   "execution_count": null,
   "metadata": {},
   "outputs": [],
   "source": [
    "# delete the work directory and run the pipeline again using -resume. What did change?\n",
    "\n",
    "!nextflow run nf-core/differentialabundance -r 1.5.0 -profile test,docker --outdir out_day01_run4 -resume"
   ]
  },
  {
   "cell_type": "markdown",
   "metadata": {},
   "source": [
    "Output: \n",
    "...\n",
    "executor >  local (21)\n",
    "[37/f42418] NFC…E:DIFFERENTIALABUNDANCE:GUNZIP_GTF (Mus_musculus.GRCm38.81.gtf.gz) | 1 of 1 ✔\n",
    "[1a/963054] NFC…RENTIALABUNDANCE:DIFFERENTIALABUNDANCE:GTF_TO_TABLE (Mus_musculus) | 1 of 1 ✔\n",
    "[72/6377d4] NFC…NDANCE:DIFFERENTIALABUNDANCE:VALIDATOR (SRP254919.samplesheet.csv) | 1 of 1 ✔\n",
    "[12/98d1aa] NFC…UNDANCE:DIFFERENTIALABUNDANCE:CUSTOM_MATRIXFILTER ([id:SRP254919]) | 1 of 1 ✔\n",
    "[c2/3cea19] NFC…_, variable:treatment, reference:mCherry, target:hND6, blocking:]) | 1 of 1 ✔\n",
    "[dc/7196d7] NFC…_, variable:treatment, reference:mCherry, target:hND6, blocking:]) | 2 of 2 ✔\n",
    "[4e/39bed4] NFC…E_DIFFERENTIALABUNDANCE:DIFFERENTIALABUNDANCE:FILTER_DIFFTABLE (2) | 2 of 2 ✔\n",
    "[02/b6dc13] NFC…RENTIALABUNDANCE:CUSTOM_TABULARTOGSEAGCT (treatment_mCherry_hND6_) | 1 of 1 ✔\n",
    "[8d/0ffb12] NFC…NCE:CUSTOM_TABULARTOGSEACLS (treatment_mCherry_hND6_sample_number) | 2 of 2 ✔\n",
    "[ec/3ef786] NFC…FFERENTIALABUNDANCE:DIFFERENTIALABUNDANCE:TABULAR_TO_GSEA_CHIP (1) | 1 of 1 ✔\n",
    "[03/69706c] NFC…BUNDANCE:DIFFERENTIALABUNDANCE:GSEA_GSEA (treatment_mCherry_hND6_) | 2 of 2 ✔\n",
    "[b8/58f340] NFC…ENTIALABUNDANCE:DIFFERENTIALABUNDANCE:PLOT_EXPLORATORY (treatment) | 1 of 1 ✔\n",
    "[d7/9268ef] NFC…:DIFFERENTIALABUNDANCE:PLOT_DIFFERENTIAL (treatment_mCherry_hND6_) | 2 of 2 ✔\n",
    "[fd/1b5171] NFC…FFERENTIALABUNDANCE:DIFFERENTIALABUNDANCE:SHINYNGS_APP (SRP254919) | 1 of 1 ✔\n",
    "[46/0b0153] NFC…NTIALABUNDANCE:DIFFERENTIALABUNDANCE:RMARKDOWNNOTEBOOK (SRP254919) | 1 of 1 ✔\n",
    "[6d/c9f27e] NFC…TIALABUNDANCE:DIFFERENTIALABUNDANCE:MAKE_REPORT_BUNDLE (SRP254919) | 1 of 1 ✔\n",
    "Completed at: 29-Sep-2025 12:47:35\n",
    "Duration    : 4m 2s\n",
    "CPU hours   : 0.1\n",
    "Succeeded   : 21\n",
    "\n",
    "What changed?\n",
    "- runtime similar to second run, not as fast as run before (the run with -resume and a work directory)\n",
    "- no cached items\n"
   ]
  },
  {
   "cell_type": "markdown",
   "metadata": {},
   "source": [
    "## Lets look at the results"
   ]
  },
  {
   "cell_type": "markdown",
   "metadata": {},
   "source": [
    "### What is differential abundance analysis?"
   ]
  },
  {
   "cell_type": "markdown",
   "metadata": {},
   "source": [
    "A differential abundance analysis aims to identify features with significantly different amounts, f.e. to identify genes which are expressed to a significantly different amount between a test and a controul group. \n",
    "\n"
   ]
  },
  {
   "cell_type": "markdown",
   "metadata": {},
   "source": [
    "Give the most important plots from the report:"
   ]
  },
  {
   "cell_type": "code",
   "execution_count": null,
   "metadata": {},
   "outputs": [],
   "source": []
  },
  {
   "cell_type": "code",
   "execution_count": null,
   "metadata": {},
   "outputs": [],
   "source": []
  }
 ],
 "metadata": {
  "kernelspec": {
   "display_name": "workflows_SS25_env",
   "language": "python",
   "name": "python3"
  },
  "language_info": {
   "codemirror_mode": {
    "name": "ipython",
    "version": 3
   },
   "file_extension": ".py",
   "mimetype": "text/x-python",
   "name": "python",
   "nbconvert_exporter": "python",
   "pygments_lexer": "ipython3",
   "version": "3.13.7"
  }
 },
 "nbformat": 4,
 "nbformat_minor": 2
}
