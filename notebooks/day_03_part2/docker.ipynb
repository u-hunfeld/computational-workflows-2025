{
 "cells": [
  {
   "cell_type": "markdown",
   "metadata": {},
   "source": [
    "# A short introduction to containerized software\n",
    "\n",
    "After spending time using nf-core pipelines to answer bioinformatic questions, we will focus on the processes that lie behind these pipelines now.\n",
    "\n",
    "Today, we will focus on containerization, namely via Docker. \n",
    "\n"
   ]
  },
  {
   "cell_type": "markdown",
   "metadata": {},
   "source": [
    "1. Check if Docker is installed."
   ]
  },
  {
   "cell_type": "code",
   "execution_count": 1,
   "metadata": {},
   "outputs": [
    {
     "name": "stdout",
     "output_type": "stream",
     "text": [
      "Client:\n",
      " Version:    28.4.0\n",
      " Context:    desktop-linux\n",
      " Debug Mode: false\n",
      " Plugins:\n",
      "  ai: Docker AI Agent - Ask Gordon (Docker Inc.)\n",
      "    Version:  v1.9.11\n",
      "    Path:     C:\\Program Files\\Docker\\cli-plugins\\docker-ai.exe\n",
      "  buildx: Docker Buildx (Docker Inc.)\n",
      "    Version:  v0.28.0-desktop.1\n",
      "    Path:     C:\\Program Files\\Docker\\cli-plugins\\docker-buildx.exe\n",
      "  cloud: Docker Cloud (Docker Inc.)\n",
      "    Version:  v0.4.27\n",
      "    Path:     C:\\Program Files\\Docker\\cli-plugins\\docker-cloud.exe\n",
      "  compose: Docker Compose (Docker Inc.)\n",
      "    Version:  v2.39.2-desktop.1\n",
      "    Path:     C:\\Program Files\\Docker\\cli-plugins\\docker-compose.exe\n",
      "  debug: Get a shell into any image or container (Docker Inc.)\n",
      "    Version:  0.0.42\n",
      "    Path:     C:\\Program Files\\Docker\\cli-plugins\\docker-debug.exe\n",
      "  desktop: Docker Desktop commands (Docker Inc.)\n",
      "    Version:  v0.2.0\n",
      "    Path:     C:\\Program Files\\Docker\\cli-plugins\\docker-desktop.exe\n",
      "  extension: Manages Docker extensions (Docker Inc.)\n",
      "    Version:  v0.2.31\n",
      "    Path:     C:\\Program Files\\Docker\\cli-plugins\\docker-extension.exe\n",
      "  init: Creates Docker-related starter files for your project (Docker Inc.)\n",
      "    Version:  v1.4.0\n",
      "    Path:     C:\\Program Files\\Docker\\cli-plugins\\docker-init.exe\n",
      "  mcp: Docker MCP Plugin (Docker Inc.)\n",
      "    Version:  v0.18.0\n",
      "    Path:     C:\\Program Files\\Docker\\cli-plugins\\docker-mcp.exe\n",
      "  model: Docker Model Runner (Docker Inc.)\n",
      "    Version:  v0.1.40\n",
      "    Path:     C:\\Program Files\\Docker\\cli-plugins\\docker-model.exe\n",
      "  sbom: View the packaged-based Software Bill Of Materials (SBOM) for an image (Anchore Inc.)\n",
      "    Version:  0.6.0\n",
      "    Path:     C:\\Program Files\\Docker\\cli-plugins\\docker-sbom.exe\n",
      "  scout: Docker Scout (Docker Inc.)\n",
      "    Version:  v1.18.3\n",
      "    Path:     C:\\Program Files\\Docker\\cli-plugins\\docker-scout.exe\n",
      "\n",
      "Server:\n",
      " Containers: 1\n",
      "  Running: 0\n",
      "  Paused: 0\n",
      "  Stopped: 1\n",
      " Images: 13\n",
      " Server Version: 28.4.0\n",
      " Storage Driver: overlayfs\n",
      "  driver-type: io.containerd.snapshotter.v1\n",
      " Logging Driver: json-file\n",
      " Cgroup Driver: cgroupfs\n",
      " Cgroup Version: 2\n",
      " Plugins:\n",
      "  Volume: local\n",
      "  Network: bridge host ipvlan macvlan null overlay\n",
      "  Log: awslogs fluentd gcplogs gelf journald json-file local splunk syslog\n",
      " CDI spec directories:\n",
      "  /etc/cdi\n",
      "  /var/run/cdi\n",
      " Discovered Devices:\n",
      "  cdi: docker.com/gpu=webgpu\n",
      " Swarm: inactive\n",
      " Runtimes: io.containerd.runc.v2 nvidia runc\n",
      " Default Runtime: runc\n",
      " Init Binary: docker-init\n",
      " containerd version: 05044ec0a9a75232cad458027ca83437aae3f4da\n",
      " runc version: v1.2.5-0-g59923ef\n",
      " init version: de40ad0\n",
      " Security Options:\n",
      "  seccomp\n",
      "   Profile: builtin\n",
      "  cgroupns\n",
      " Kernel Version: 6.6.87.2-microsoft-standard-WSL2\n",
      " Operating System: Docker Desktop\n",
      " OSType: linux\n",
      " Architecture: x86_64\n",
      " CPUs: 12\n",
      " Total Memory: 7.413GiB\n",
      " Name: docker-desktop\n",
      " ID: 5ccfc85d-63d9-41f9-a882-1192862c0241\n",
      " Docker Root Dir: /var/lib/docker\n",
      " Debug Mode: false\n",
      " HTTP Proxy: http.docker.internal:3128\n",
      " HTTPS Proxy: http.docker.internal:3128\n",
      " No Proxy: hubproxy.docker.internal\n",
      " Labels:\n",
      "  com.docker.desktop.address=npipe://\\\\.\\pipe\\docker_cli\n",
      " Experimental: false\n",
      " Insecure Registries:\n",
      "  hubproxy.docker.internal:5555\n",
      "  ::1/128\n",
      "  127.0.0.0/8\n",
      " Live Restore Enabled: false\n",
      "\n"
     ]
    }
   ],
   "source": [
    "!docker info"
   ]
  },
  {
   "cell_type": "markdown",
   "metadata": {},
   "source": [
    "### What is a container?"
   ]
  },
  {
   "cell_type": "markdown",
   "metadata": {},
   "source": [
    "- A container is an encapsulated environment in which applications can run\n",
    "- It containes code as well as dependencies"
   ]
  },
  {
   "cell_type": "markdown",
   "metadata": {},
   "source": [
    "### Why do we use containers?"
   ]
  },
  {
   "cell_type": "markdown",
   "metadata": {},
   "source": [
    "- containers include fixed software, dependencies, versions, etc.\n",
    "- by this, different users have the exact same environment available and can produce the same results\n",
    "- this way reproducability of pipelines can be ensured"
   ]
  },
  {
   "cell_type": "markdown",
   "metadata": {},
   "source": [
    "### What is a docker image?"
   ]
  },
  {
   "cell_type": "markdown",
   "metadata": {},
   "source": [
    "- a docker image contains all information necessary to build a docker container\n",
    "- it contains code, information on dependencies, tools, usages, ..."
   ]
  },
  {
   "cell_type": "markdown",
   "metadata": {},
   "source": [
    "### Let's run our first docker image:"
   ]
  },
  {
   "cell_type": "markdown",
   "metadata": {},
   "source": [
    "### Login to docker"
   ]
  },
  {
   "cell_type": "code",
   "execution_count": null,
   "metadata": {},
   "outputs": [],
   "source": [
    "# This you need to do on the command line directly"
   ]
  },
  {
   "cell_type": "markdown",
   "metadata": {},
   "source": [
    "### Run your first docker container"
   ]
  },
  {
   "cell_type": "code",
   "execution_count": 2,
   "metadata": {},
   "outputs": [
    {
     "name": "stdout",
     "output_type": "stream",
     "text": [
      "\n",
      "Hello from Docker!\n",
      "This message shows that your installation appears to be working correctly.\n",
      "\n",
      "To generate this message, Docker took the following steps:\n",
      " 1. The Docker client contacted the Docker daemon.\n",
      " 2. The Docker daemon pulled the \"hello-world\" image from the Docker Hub.\n",
      "    (amd64)\n",
      " 3. The Docker daemon created a new container from that image which runs the\n",
      "    executable that produces the output you are currently reading.\n",
      " 4. The Docker daemon streamed that output to the Docker client, which sent it\n",
      "    to your terminal.\n",
      "\n",
      "To try something more ambitious, you can run an Ubuntu container with:\n",
      " $ docker run -it ubuntu bash\n",
      "\n",
      "Share images, automate workflows, and more with a free Docker ID:\n",
      " https://hub.docker.com/\n",
      "\n",
      "For more examples and ideas, visit:\n",
      " https://docs.docker.com/get-started/\n",
      "\n"
     ]
    }
   ],
   "source": [
    "!docker run hello-world"
   ]
  },
  {
   "cell_type": "markdown",
   "metadata": {},
   "source": [
    "### Find the container ID"
   ]
  },
  {
   "cell_type": "code",
   "execution_count": null,
   "metadata": {},
   "outputs": [
    {
     "name": "stdout",
     "output_type": "stream",
     "text": [
      "CONTAINER ID   IMAGE         COMMAND    CREATED         STATUS                     PORTS     NAMES\n",
      "8cf22baa8339   hello-world   \"/hello\"   2 minutes ago   Exited (0) 2 minutes ago             youthful_burnell\n",
      "f3f167674866   hello-world   \"/hello\"   7 days ago      Exited (0) 7 days ago                stoic_bardeen\n"
     ]
    }
   ],
   "source": [
    "!docker container ls --all"
   ]
  },
  {
   "cell_type": "markdown",
   "metadata": {},
   "source": [
    "### Delete the container again, give prove its deleted"
   ]
  },
  {
   "cell_type": "code",
   "execution_count": 5,
   "metadata": {},
   "outputs": [
    {
     "name": "stdout",
     "output_type": "stream",
     "text": [
      "8cf22baa8339\n"
     ]
    }
   ],
   "source": [
    "!docker rm 8cf22baa8339   "
   ]
  },
  {
   "cell_type": "code",
   "execution_count": 6,
   "metadata": {},
   "outputs": [
    {
     "name": "stdout",
     "output_type": "stream",
     "text": [
      "CONTAINER ID   IMAGE         COMMAND    CREATED      STATUS                  PORTS     NAMES\n",
      "f3f167674866   hello-world   \"/hello\"   7 days ago   Exited (0) 7 days ago             stoic_bardeen\n"
     ]
    }
   ],
   "source": [
    "!docker container ls --all"
   ]
  },
  {
   "cell_type": "markdown",
   "metadata": {},
   "source": [
    "### FASTQC is a very useful tool as you've learned last week. Let's try and run it from command line\n",
    "\n",
    "Link to the software: https://www.bioinformatics.babraham.ac.uk/projects/fastqc/"
   ]
  },
  {
   "cell_type": "markdown",
   "metadata": {},
   "source": [
    "Please describe the steps you took to download and run the software for the example fastq file from last week below:"
   ]
  },
  {
   "cell_type": "markdown",
   "metadata": {},
   "source": [
    "1. install with: sudo apt install fastqc \n",
    "2. run: fastqc <file>"
   ]
  },
  {
   "cell_type": "code",
   "execution_count": null,
   "metadata": {},
   "outputs": [],
   "source": [
    "!fastqc day02/SRFetch_results/fastq/SRX19144486_SRR23195516_1.fastq.gz\n",
    "\n",
    "#this produces a fastqc report as zip and html in the folder of the input file"
   ]
  },
  {
   "cell_type": "markdown",
   "metadata": {},
   "source": [
    "### Very well, now let's try to make use of its docker container\n",
    "\n",
    "1. create a container holding fastqc using seqera containers (https://seqera.io/containers/)\n",
    "2. use the container to generate a fastqc html of the example fastq file"
   ]
  },
  {
   "cell_type": "code",
   "execution_count": null,
   "metadata": {},
   "outputs": [
    {
     "name": "stdout",
     "output_type": "stream",
     "text": [
      "0.12.1--af7a5314d5015c29: Pulling from library/fastqc\n",
      "10b8c00c10a5: Pulling fs layer\n",
      "030a47592a0a: Pulling fs layer\n",
      "dec6b097362e: Pulling fs layer\n",
      "17dc7ea432cc: Pulling fs layer\n",
      "0f93acc3b8ff: Pulling fs layer\n",
      "92dc97a3ef36: Pulling fs layer\n",
      "dafa2b0c44d2: Pulling fs layer\n",
      "4f4fb700ef54: Pulling fs layer\n",
      "f3c4c6865366: Pulling fs layer\n",
      "403f74b0f85e: Pulling fs layer\n",
      "bb36d6c3110d: Pulling fs layer\n",
      "0ea1a16bbe82: Pulling fs layer\n",
      "4f4fb700ef54: Pulling fs layer\n",
      "f88da01cff0b: Pulling fs layer\n",
      "92dc97a3ef36: Download complete\n",
      "0ea1a16bbe82: Download complete\n",
      "dec6b097362e: Download complete\n",
      "17dc7ea432cc: Download complete\n",
      "403f74b0f85e: Download complete\n",
      "10b8c00c10a5: Download complete\n",
      "4f4fb700ef54: Download complete\n",
      "030a47592a0a: Download complete\n",
      "0f93acc3b8ff: Download complete\n",
      "bb36d6c3110d: Download complete\n",
      "f88da01cff0b: Download complete\n",
      "dafa2b0c44d2: Download complete\n",
      "dec6b097362e: Pull complete\n",
      "dafa2b0c44d2: Pull complete\n",
      "f88da01cff0b: Pull complete\n",
      "92dc97a3ef36: Pull complete\n",
      "403f74b0f85e: Pull complete\n",
      "17dc7ea432cc: Pull complete\n",
      "10b8c00c10a5: Pull complete\n",
      "4f4fb700ef54: Pull complete\n",
      "bb36d6c3110d: Pull complete\n",
      "0ea1a16bbe82: Pull complete\n",
      "030a47592a0a: Pull complete\n",
      "0f93acc3b8ff: Pull complete\n",
      "f3c4c6865366: Download complete\n",
      "f3c4c6865366: Pull complete\n",
      "Digest: sha256:b7f6caf359264cf86da901b0aa5f66735a6506fcfbf103c66db6987253ad44c1\n",
      "Status: Downloaded newer image for community.wave.seqera.io/library/fastqc:0.12.1--af7a5314d5015c29\n",
      "community.wave.seqera.io/library/fastqc:0.12.1--af7a5314d5015c29\n"
     ]
    }
   ],
   "source": [
    "# creating a container using seqera gives you the following image name:\n",
    "# community.wave.seqera.io/library/fastqc:0.12.1--af7a5314d5015c29\n",
    "# pull the container\n",
    "!docker pull community.wave.seqera.io/library/fastqc:0.12.1--af7a5314d5015c29"
   ]
  },
  {
   "cell_type": "code",
   "execution_count": 9,
   "metadata": {},
   "outputs": [
    {
     "name": "stdout",
     "output_type": "stream",
     "text": [
      "REPOSITORY                                                 TAG                        IMAGE ID       CREATED         SIZE\n",
      "hello-world                                                latest                     54e66cc1dd1f   7 weeks ago     20.3kB\n",
      "community.wave.seqera.io/library/fastqc                    0.12.1--af7a5314d5015c29   b7f6caf35926   11 months ago   1.37GB\n",
      "quay.io/biocontainers/fq                                   0.12.0--h9ee0642_0         74b59572f1d0   14 months ago   20MB\n",
      "quay.io/biocontainers/r-shinyngs                           1.8.8--r43hdfd78af_0       e0de72408557   17 months ago   1.99GB\n",
      "quay.io/biocontainers/atlas-gene-annotation-manipulation   1.1.1--hdfd78af_0          099d0e113ec8   18 months ago   1.82GB\n",
      "quay.io/nf-core/ubuntu                                     20.04                      59e9d08d8dc1   2 years ago     110MB\n",
      "quay.io/biocontainers/pandas                               1.5.2                      cbb54fcf8730   2 years ago     493MB\n",
      "quay.io/biocontainers/gsea                                 4.3.2--hdfd78af_0          0010041fff53   2 years ago     849MB\n",
      "quay.io/biocontainers/r-base                               4.2.1                      6721ee8bfba2   2 years ago     1.17GB\n",
      "quay.io/biocontainers/p7zip                                16.02                      731aaeef376a   3 years ago     47.7MB\n",
      "quay.io/biocontainers/python                               3.9--1                     d97d2b329b4e   4 years ago     275MB\n",
      "quay.io/biocontainers/gawk                                 5.1.0                      9d300f3d0a35   5 years ago     53.4MB\n",
      "quay.io/biocontainers/bioconductor-deseq2                  1.34.0--r41hc247a5b_3      c06884d353ef   55 years ago    452MB\n",
      "quay.io/biocontainers/wget                                 1.20.1                     7e5ba9e87a25   55 years ago    26.9MB\n"
     ]
    }
   ],
   "source": [
    "!docker images"
   ]
  },
  {
   "cell_type": "code",
   "execution_count": 4,
   "metadata": {},
   "outputs": [
    {
     "name": "stdout",
     "output_type": "stream",
     "text": [
      "application/gzip\n",
      "Analysis complete for SRX19144486_SRR23195516_1.fastq.gz\n"
     ]
    },
    {
     "name": "stderr",
     "output_type": "stream",
     "text": [
      "Started analysis of SRX19144486_SRR23195516_1.fastq.gz\n",
      "Approx 5% complete for SRX19144486_SRR23195516_1.fastq.gz\n",
      "Approx 10% complete for SRX19144486_SRR23195516_1.fastq.gz\n",
      "Approx 15% complete for SRX19144486_SRR23195516_1.fastq.gz\n",
      "Approx 20% complete for SRX19144486_SRR23195516_1.fastq.gz\n",
      "Approx 25% complete for SRX19144486_SRR23195516_1.fastq.gz\n",
      "Approx 30% complete for SRX19144486_SRR23195516_1.fastq.gz\n",
      "Approx 35% complete for SRX19144486_SRR23195516_1.fastq.gz\n",
      "Approx 40% complete for SRX19144486_SRR23195516_1.fastq.gz\n",
      "Approx 45% complete for SRX19144486_SRR23195516_1.fastq.gz\n",
      "Approx 50% complete for SRX19144486_SRR23195516_1.fastq.gz\n",
      "Approx 55% complete for SRX19144486_SRR23195516_1.fastq.gz\n",
      "Approx 60% complete for SRX19144486_SRR23195516_1.fastq.gz\n",
      "Approx 65% complete for SRX19144486_SRR23195516_1.fastq.gz\n",
      "Approx 70% complete for SRX19144486_SRR23195516_1.fastq.gz\n",
      "Approx 75% complete for SRX19144486_SRR23195516_1.fastq.gz\n",
      "Approx 80% complete for SRX19144486_SRR23195516_1.fastq.gz\n",
      "Approx 85% complete for SRX19144486_SRR23195516_1.fastq.gz\n",
      "Approx 90% complete for SRX19144486_SRR23195516_1.fastq.gz\n",
      "Approx 95% complete for SRX19144486_SRR23195516_1.fastq.gz\n"
     ]
    }
   ],
   "source": [
    "# run the container and save the results to a new \"fastqc_results\" directory\n",
    "\n",
    "!docker run -v ../../notebooks:/data community.wave.seqera.io/library/fastqc:0.12.1--af7a5314d5015c29 fastqc /data/day_03_part2/SRX19144486_SRR23195516_1.fastq.gz -o /data/day_03_part2/docker_out_fastqc"
   ]
  },
  {
   "cell_type": "markdown",
   "metadata": {},
   "source": [
    "### Now that you know how to use a docker container, which approach was easier and which approach will be easier in the future?"
   ]
  },
  {
   "cell_type": "markdown",
   "metadata": {},
   "source": [
    "- Using fastqc via linux was fairly easy. If I had to install it on windows with a .exe file, including making sure that java was properly installed, it would have required way more work. \n",
    "- Setting up how to run the docker container (and understanding the command options, mounting, etc) was quite some work\n",
    "- In the future, both ways may become easier just because one has done it multiple times already\n"
   ]
  },
  {
   "cell_type": "markdown",
   "metadata": {},
   "source": [
    "### What would you say, which approach is more reproducible?"
   ]
  },
  {
   "cell_type": "markdown",
   "metadata": {},
   "source": [
    "- The docker approach is more reproducible, because the docker image contains the specific version of fastqc. Re-using the docker image should produce the same result again\n",
    "- Downloading and installing fastqc again could result in getting a different version much easier, and therefore may lead to different results"
   ]
  },
  {
   "cell_type": "markdown",
   "metadata": {},
   "source": [
    "### Compare the file to last weeks fastqc results, are they identical?\n",
    "\n",
    "- The fastqc results of both approaches done today seem to be identical. \n",
    "\n",
    "### Is the fastqc version identical?\n",
    "\n",
    "- both fastqc and the docker container are the version 0.12.1"
   ]
  },
  {
   "cell_type": "markdown",
   "metadata": {},
   "source": [
    "## Dockerfiles\n",
    "\n",
    "We now used Docker containers and images directly to boost our research. \n",
    "\n",
    "Let's create our own toy Dockerfile including the \"cowsay\" tool (https://en.wikipedia.org/wiki/Cowsay)\n",
    "\n",
    "Hints:\n",
    "1. Docker is Linux, so you need to know the apt-get command to install \"cowsay\"\n"
   ]
  },
  {
   "cell_type": "code",
   "execution_count": null,
   "metadata": {},
   "outputs": [],
   "source": [
    "# open the file \"my_dockerfile\" in a text editor"
   ]
  },
  {
   "cell_type": "markdown",
   "metadata": {},
   "source": [
    "### Explain the RUN and ENV lines you added to the file"
   ]
  },
  {
   "cell_type": "markdown",
   "metadata": {},
   "source": [
    "- RUN: this command installs cowsay via the linux command\n",
    "\n",
    "- ENV: this sets the path variable to usr/games"
   ]
  },
  {
   "cell_type": "code",
   "execution_count": 7,
   "metadata": {},
   "outputs": [
    {
     "name": "stderr",
     "output_type": "stream",
     "text": [
      "#0 building with \"desktop-linux\" instance using docker driver\n",
      "\n",
      "#1 [internal] load build definition from my_dockerfile\n",
      "#1 transferring dockerfile: 829B 0.0s done\n",
      "#1 DONE 0.0s\n",
      "\n",
      "#2 [internal] load metadata for docker.io/library/debian:bullseye-slim\n",
      "#2 ...\n",
      "\n",
      "#3 [auth] library/debian:pull token for registry-1.docker.io\n",
      "#3 DONE 0.0s\n",
      "\n",
      "#2 [internal] load metadata for docker.io/library/debian:bullseye-slim\n",
      "#2 DONE 1.4s\n",
      "\n",
      "#4 [internal] load .dockerignore\n",
      "#4 transferring context: 2B done\n",
      "#4 DONE 0.0s\n",
      "\n",
      "#5 [1/2] FROM docker.io/library/debian:bullseye-slim@sha256:f807f4b16002c623115b0247dca6a55711c6b1ae821dc64fb8a2339e4ce2115d\n",
      "#5 resolve docker.io/library/debian:bullseye-slim@sha256:f807f4b16002c623115b0247dca6a55711c6b1ae821dc64fb8a2339e4ce2115d 0.0s done\n",
      "#5 DONE 0.1s\n",
      "\n",
      "#5 [1/2] FROM docker.io/library/debian:bullseye-slim@sha256:f807f4b16002c623115b0247dca6a55711c6b1ae821dc64fb8a2339e4ce2115d\n",
      "#5 sha256:4eb1dd59a73886acc6a3cc9d4c8f8e66d1fd6ba6d6195b05ce21c22b0658aab8 0B / 30.26MB 0.2s\n",
      "#5 sha256:4eb1dd59a73886acc6a3cc9d4c8f8e66d1fd6ba6d6195b05ce21c22b0658aab8 2.10MB / 30.26MB 0.8s\n",
      "#5 sha256:4eb1dd59a73886acc6a3cc9d4c8f8e66d1fd6ba6d6195b05ce21c22b0658aab8 5.24MB / 30.26MB 1.1s\n",
      "#5 sha256:4eb1dd59a73886acc6a3cc9d4c8f8e66d1fd6ba6d6195b05ce21c22b0658aab8 7.34MB / 30.26MB 1.4s\n",
      "#5 sha256:4eb1dd59a73886acc6a3cc9d4c8f8e66d1fd6ba6d6195b05ce21c22b0658aab8 9.44MB / 30.26MB 1.7s\n",
      "#5 sha256:4eb1dd59a73886acc6a3cc9d4c8f8e66d1fd6ba6d6195b05ce21c22b0658aab8 11.53MB / 30.26MB 1.8s\n",
      "#5 sha256:4eb1dd59a73886acc6a3cc9d4c8f8e66d1fd6ba6d6195b05ce21c22b0658aab8 13.63MB / 30.26MB 2.1s\n",
      "#5 sha256:4eb1dd59a73886acc6a3cc9d4c8f8e66d1fd6ba6d6195b05ce21c22b0658aab8 15.73MB / 30.26MB 2.3s\n",
      "#5 sha256:4eb1dd59a73886acc6a3cc9d4c8f8e66d1fd6ba6d6195b05ce21c22b0658aab8 18.87MB / 30.26MB 2.7s\n",
      "#5 sha256:4eb1dd59a73886acc6a3cc9d4c8f8e66d1fd6ba6d6195b05ce21c22b0658aab8 20.97MB / 30.26MB 3.0s\n",
      "#5 sha256:4eb1dd59a73886acc6a3cc9d4c8f8e66d1fd6ba6d6195b05ce21c22b0658aab8 23.07MB / 30.26MB 3.3s\n",
      "#5 sha256:4eb1dd59a73886acc6a3cc9d4c8f8e66d1fd6ba6d6195b05ce21c22b0658aab8 25.17MB / 30.26MB 3.6s\n",
      "#5 sha256:4eb1dd59a73886acc6a3cc9d4c8f8e66d1fd6ba6d6195b05ce21c22b0658aab8 27.26MB / 30.26MB 3.8s\n",
      "#5 sha256:4eb1dd59a73886acc6a3cc9d4c8f8e66d1fd6ba6d6195b05ce21c22b0658aab8 29.36MB / 30.26MB 4.1s\n",
      "#5 sha256:4eb1dd59a73886acc6a3cc9d4c8f8e66d1fd6ba6d6195b05ce21c22b0658aab8 30.26MB / 30.26MB 4.2s done\n",
      "#5 extracting sha256:4eb1dd59a73886acc6a3cc9d4c8f8e66d1fd6ba6d6195b05ce21c22b0658aab8\n",
      "#5 extracting sha256:4eb1dd59a73886acc6a3cc9d4c8f8e66d1fd6ba6d6195b05ce21c22b0658aab8 2.2s done\n",
      "#5 DONE 6.5s\n",
      "\n",
      "#6 [2/2] RUN apt-get update && apt-get install -y curl cowsay && rm -rf /var/lib/apt/lists/*\n",
      "#6 0.589 Get:1 http://deb.debian.org/debian bullseye InRelease [75.1 kB]\n",
      "#6 0.651 Get:2 http://deb.debian.org/debian-security bullseye-security InRelease [27.2 kB]\n",
      "#6 0.692 Get:3 http://deb.debian.org/debian bullseye-updates InRelease [44.0 kB]\n",
      "#6 0.860 Get:4 http://deb.debian.org/debian bullseye/main amd64 Packages [8066 kB]\n",
      "#6 1.855 Get:5 http://deb.debian.org/debian-security bullseye-security/main amd64 Packages [411 kB]\n",
      "#6 1.886 Get:6 http://deb.debian.org/debian bullseye-updates/main amd64 Packages [18.8 kB]\n",
      "#6 3.118 Fetched 8642 kB in 3s (3279 kB/s)\n",
      "#6 3.118 Reading package lists...\n",
      "#6 3.749 Reading package lists...\n",
      "#6 4.245 Building dependency tree...\n",
      "#6 4.365 Reading state information...\n",
      "#6 4.473 The following additional packages will be installed:\n",
      "#6 4.474   ca-certificates libbrotli1 libcurl4 libgdbm-compat4 libgdbm6 libldap-2.4-2\n",
      "#6 4.474   libldap-common libnghttp2-14 libperl5.32 libpsl5 librtmp1 libsasl2-2\n",
      "#6 4.474   libsasl2-modules libsasl2-modules-db libssh2-1 libtext-charwidth-perl\n",
      "#6 4.474   netbase openssl perl perl-modules-5.32 publicsuffix\n",
      "#6 4.476 Suggested packages:\n",
      "#6 4.476   filters cowsay-off gdbm-l10n sensible-utils libsasl2-modules-gssapi-mit\n",
      "#6 4.476   | libsasl2-modules-gssapi-heimdal libsasl2-modules-ldap libsasl2-modules-otp\n",
      "#6 4.476   libsasl2-modules-sql perl-doc libterm-readline-gnu-perl\n",
      "#6 4.476   | libterm-readline-perl-perl make libtap-harness-archive-perl\n",
      "#6 4.574 The following NEW packages will be installed:\n",
      "#6 4.574   ca-certificates cowsay curl libbrotli1 libcurl4 libgdbm-compat4 libgdbm6\n",
      "#6 4.574   libldap-2.4-2 libldap-common libnghttp2-14 libperl5.32 libpsl5 librtmp1\n",
      "#6 4.574   libsasl2-2 libsasl2-modules libsasl2-modules-db libssh2-1\n",
      "#6 4.575   libtext-charwidth-perl netbase openssl perl perl-modules-5.32 publicsuffix\n",
      "#6 4.679 0 upgraded, 23 newly installed, 0 to remove and 0 not upgraded.\n",
      "#6 4.679 Need to get 10.4 MB of archives.\n",
      "#6 4.679 After this operation, 53.8 MB of additional disk space will be used.\n",
      "#6 4.679 Get:1 http://deb.debian.org/debian-security bullseye-security/main amd64 perl-modules-5.32 all 5.32.1-4+deb11u4 [2824 kB]\n",
      "#6 5.532 Get:2 http://deb.debian.org/debian bullseye/main amd64 libgdbm6 amd64 1.19-2 [64.9 kB]\n",
      "#6 5.587 Get:3 http://deb.debian.org/debian bullseye/main amd64 libgdbm-compat4 amd64 1.19-2 [44.7 kB]\n",
      "#6 5.592 Get:4 http://deb.debian.org/debian-security bullseye-security/main amd64 libperl5.32 amd64 5.32.1-4+deb11u4 [4132 kB]\n",
      "#6 5.950 Get:5 http://deb.debian.org/debian-security bullseye-security/main amd64 perl amd64 5.32.1-4+deb11u4 [293 kB]\n",
      "#6 5.965 Get:6 http://deb.debian.org/debian bullseye/main amd64 netbase all 6.3 [19.9 kB]\n",
      "#6 5.966 Get:7 http://deb.debian.org/debian-security bullseye-security/main amd64 openssl amd64 1.1.1w-0+deb11u3 [859 kB]\n",
      "#6 6.079 Get:8 http://deb.debian.org/debian bullseye/main amd64 ca-certificates all 20210119 [158 kB]\n",
      "#6 6.114 Get:9 http://deb.debian.org/debian bullseye/main amd64 libtext-charwidth-perl amd64 0.04-10+b1 [10.6 kB]\n",
      "#6 6.114 Get:10 http://deb.debian.org/debian bullseye/main amd64 cowsay all 3.03+dfsg2-8 [21.4 kB]\n",
      "#6 6.115 Get:11 http://deb.debian.org/debian bullseye/main amd64 libbrotli1 amd64 1.0.9-2+b2 [279 kB]\n",
      "#6 6.204 Get:12 http://deb.debian.org/debian bullseye/main amd64 libsasl2-modules-db amd64 2.1.27+dfsg-2.1+deb11u1 [69.1 kB]\n",
      "#6 6.214 Get:13 http://deb.debian.org/debian bullseye/main amd64 libsasl2-2 amd64 2.1.27+dfsg-2.1+deb11u1 [106 kB]\n",
      "#6 6.272 Get:14 http://deb.debian.org/debian bullseye/main amd64 libldap-2.4-2 amd64 2.4.57+dfsg-3+deb11u1 [232 kB]\n",
      "#6 6.298 Get:15 http://deb.debian.org/debian-security bullseye-security/main amd64 libnghttp2-14 amd64 1.43.0-1+deb11u2 [77.0 kB]\n",
      "#6 6.307 Get:16 http://deb.debian.org/debian bullseye/main amd64 libpsl5 amd64 0.21.0-1.2 [57.3 kB]\n",
      "#6 6.320 Get:17 http://deb.debian.org/debian bullseye/main amd64 librtmp1 amd64 2.4+20151223.gitfa8646d.1-2+b2 [60.8 kB]\n",
      "#6 6.331 Get:18 http://deb.debian.org/debian bullseye/main amd64 libssh2-1 amd64 1.9.0-2+deb11u1 [156 kB]\n",
      "#6 6.344 Get:19 http://deb.debian.org/debian-security bullseye-security/main amd64 libcurl4 amd64 7.74.0-1.3+deb11u15 [347 kB]\n",
      "#6 6.379 Get:20 http://deb.debian.org/debian-security bullseye-security/main amd64 curl amd64 7.74.0-1.3+deb11u15 [272 kB]\n",
      "#6 6.413 Get:21 http://deb.debian.org/debian bullseye/main amd64 libldap-common all 2.4.57+dfsg-3+deb11u1 [95.8 kB]\n",
      "#6 6.440 Get:22 http://deb.debian.org/debian bullseye/main amd64 libsasl2-modules amd64 2.1.27+dfsg-2.1+deb11u1 [104 kB]\n",
      "#6 6.447 Get:23 http://deb.debian.org/debian bullseye/main amd64 publicsuffix all 20220811.1734-0+deb11u1 [127 kB]\n",
      "#6 6.619 debconf: delaying package configuration, since apt-utils is not installed\n",
      "#6 6.668 Fetched 10.4 MB in 2s (5544 kB/s)\n",
      "#6 6.701 Selecting previously unselected package perl-modules-5.32.\n",
      "#6 6.701 (Reading database ... \n",
      "(Reading database ... 5%\n",
      "(Reading database ... 10%\n",
      "(Reading database ... 15%\n",
      "(Reading database ... 20%\n",
      "(Reading database ... 25%\n",
      "(Reading database ... 30%\n",
      "(Reading database ... 35%\n",
      "(Reading database ... 40%\n",
      "(Reading database ... 45%\n",
      "(Reading database ... 50%\n",
      "(Reading database ... 55%\n",
      "(Reading database ... 60%\n",
      "(Reading database ... 65%\n",
      "(Reading database ... 70%\n",
      "(Reading database ... 75%\n",
      "(Reading database ... 80%\n",
      "(Reading database ... 85%\n",
      "(Reading database ... 90%\n",
      "(Reading database ... 95%\n",
      "(Reading database ... 100%\n",
      "(Reading database ... 6673 files and directories currently installed.)\n",
      "#6 6.722 Preparing to unpack .../00-perl-modules-5.32_5.32.1-4+deb11u4_all.deb ...\n",
      "#6 6.726 Unpacking perl-modules-5.32 (5.32.1-4+deb11u4) ...\n",
      "#6 7.568 Selecting previously unselected package libgdbm6:amd64.\n",
      "#6 7.571 Preparing to unpack .../01-libgdbm6_1.19-2_amd64.deb ...\n",
      "#6 7.579 Unpacking libgdbm6:amd64 (1.19-2) ...\n",
      "#6 7.625 Selecting previously unselected package libgdbm-compat4:amd64.\n",
      "#6 7.629 Preparing to unpack .../02-libgdbm-compat4_1.19-2_amd64.deb ...\n",
      "#6 7.634 Unpacking libgdbm-compat4:amd64 (1.19-2) ...\n",
      "#6 7.681 Selecting previously unselected package libperl5.32:amd64.\n",
      "#6 7.685 Preparing to unpack .../03-libperl5.32_5.32.1-4+deb11u4_amd64.deb ...\n",
      "#6 7.689 Unpacking libperl5.32:amd64 (5.32.1-4+deb11u4) ...\n",
      "#6 8.437 Selecting previously unselected package perl.\n",
      "#6 8.441 Preparing to unpack .../04-perl_5.32.1-4+deb11u4_amd64.deb ...\n",
      "#6 8.454 Unpacking perl (5.32.1-4+deb11u4) ...\n",
      "#6 8.525 Selecting previously unselected package netbase.\n",
      "#6 8.529 Preparing to unpack .../05-netbase_6.3_all.deb ...\n",
      "#6 8.533 Unpacking netbase (6.3) ...\n",
      "#6 8.571 Selecting previously unselected package openssl.\n",
      "#6 8.574 Preparing to unpack .../06-openssl_1.1.1w-0+deb11u3_amd64.deb ...\n",
      "#6 8.579 Unpacking openssl (1.1.1w-0+deb11u3) ...\n",
      "#6 8.688 Selecting previously unselected package ca-certificates.\n",
      "#6 8.691 Preparing to unpack .../07-ca-certificates_20210119_all.deb ...\n",
      "#6 8.695 Unpacking ca-certificates (20210119) ...\n",
      "#6 8.780 Selecting previously unselected package libtext-charwidth-perl.\n",
      "#6 8.783 Preparing to unpack .../08-libtext-charwidth-perl_0.04-10+b1_amd64.deb ...\n",
      "#6 8.787 Unpacking libtext-charwidth-perl (0.04-10+b1) ...\n",
      "#6 8.823 Selecting previously unselected package cowsay.\n",
      "#6 8.826 Preparing to unpack .../09-cowsay_3.03+dfsg2-8_all.deb ...\n",
      "#6 8.830 Unpacking cowsay (3.03+dfsg2-8) ...\n",
      "#6 8.882 Selecting previously unselected package libbrotli1:amd64.\n",
      "#6 8.885 Preparing to unpack .../10-libbrotli1_1.0.9-2+b2_amd64.deb ...\n",
      "#6 8.888 Unpacking libbrotli1:amd64 (1.0.9-2+b2) ...\n",
      "#6 8.948 Selecting previously unselected package libsasl2-modules-db:amd64.\n",
      "#6 8.951 Preparing to unpack .../11-libsasl2-modules-db_2.1.27+dfsg-2.1+deb11u1_amd64.deb ...\n",
      "#6 8.955 Unpacking libsasl2-modules-db:amd64 (2.1.27+dfsg-2.1+deb11u1) ...\n",
      "#6 8.995 Selecting previously unselected package libsasl2-2:amd64.\n",
      "#6 8.998 Preparing to unpack .../12-libsasl2-2_2.1.27+dfsg-2.1+deb11u1_amd64.deb ...\n",
      "#6 9.002 Unpacking libsasl2-2:amd64 (2.1.27+dfsg-2.1+deb11u1) ...\n",
      "#6 9.047 Selecting previously unselected package libldap-2.4-2:amd64.\n",
      "#6 9.050 Preparing to unpack .../13-libldap-2.4-2_2.4.57+dfsg-3+deb11u1_amd64.deb ...\n",
      "#6 9.053 Unpacking libldap-2.4-2:amd64 (2.4.57+dfsg-3+deb11u1) ...\n",
      "#6 9.108 Selecting previously unselected package libnghttp2-14:amd64.\n",
      "#6 9.111 Preparing to unpack .../14-libnghttp2-14_1.43.0-1+deb11u2_amd64.deb ...\n",
      "#6 9.115 Unpacking libnghttp2-14:amd64 (1.43.0-1+deb11u2) ...\n",
      "#6 9.156 Selecting previously unselected package libpsl5:amd64.\n",
      "#6 9.160 Preparing to unpack .../15-libpsl5_0.21.0-1.2_amd64.deb ...\n",
      "#6 9.164 Unpacking libpsl5:amd64 (0.21.0-1.2) ...\n",
      "#6 9.204 Selecting previously unselected package librtmp1:amd64.\n",
      "#6 9.207 Preparing to unpack .../16-librtmp1_2.4+20151223.gitfa8646d.1-2+b2_amd64.deb ...\n",
      "#6 9.211 Unpacking librtmp1:amd64 (2.4+20151223.gitfa8646d.1-2+b2) ...\n",
      "#6 9.247 Selecting previously unselected package libssh2-1:amd64.\n",
      "#6 9.250 Preparing to unpack .../17-libssh2-1_1.9.0-2+deb11u1_amd64.deb ...\n",
      "#6 9.254 Unpacking libssh2-1:amd64 (1.9.0-2+deb11u1) ...\n",
      "#6 9.298 Selecting previously unselected package libcurl4:amd64.\n",
      "#6 9.300 Preparing to unpack .../18-libcurl4_7.74.0-1.3+deb11u15_amd64.deb ...\n",
      "#6 9.304 Unpacking libcurl4:amd64 (7.74.0-1.3+deb11u15) ...\n",
      "#6 9.359 Selecting previously unselected package curl.\n",
      "#6 9.362 Preparing to unpack .../19-curl_7.74.0-1.3+deb11u15_amd64.deb ...\n",
      "#6 9.366 Unpacking curl (7.74.0-1.3+deb11u15) ...\n",
      "#6 9.415 Selecting previously unselected package libldap-common.\n",
      "#6 9.418 Preparing to unpack .../20-libldap-common_2.4.57+dfsg-3+deb11u1_all.deb ...\n",
      "#6 9.421 Unpacking libldap-common (2.4.57+dfsg-3+deb11u1) ...\n",
      "#6 9.462 Selecting previously unselected package libsasl2-modules:amd64.\n",
      "#6 9.465 Preparing to unpack .../21-libsasl2-modules_2.1.27+dfsg-2.1+deb11u1_amd64.deb ...\n",
      "#6 9.468 Unpacking libsasl2-modules:amd64 (2.1.27+dfsg-2.1+deb11u1) ...\n",
      "#6 9.507 Selecting previously unselected package publicsuffix.\n",
      "#6 9.510 Preparing to unpack .../22-publicsuffix_20220811.1734-0+deb11u1_all.deb ...\n",
      "#6 9.513 Unpacking publicsuffix (20220811.1734-0+deb11u1) ...\n",
      "#6 9.561 Setting up libtext-charwidth-perl (0.04-10+b1) ...\n",
      "#6 9.573 Setting up libpsl5:amd64 (0.21.0-1.2) ...\n",
      "#6 9.584 Setting up perl-modules-5.32 (5.32.1-4+deb11u4) ...\n",
      "#6 9.593 Setting up libbrotli1:amd64 (1.0.9-2+b2) ...\n",
      "#6 9.602 Setting up libsasl2-modules:amd64 (2.1.27+dfsg-2.1+deb11u1) ...\n",
      "#6 9.618 Setting up libnghttp2-14:amd64 (1.43.0-1+deb11u2) ...\n",
      "#6 9.628 Setting up libldap-common (2.4.57+dfsg-3+deb11u1) ...\n",
      "#6 9.641 Setting up libsasl2-modules-db:amd64 (2.1.27+dfsg-2.1+deb11u1) ...\n",
      "#6 9.650 Setting up librtmp1:amd64 (2.4+20151223.gitfa8646d.1-2+b2) ...\n",
      "#6 9.658 Setting up libsasl2-2:amd64 (2.1.27+dfsg-2.1+deb11u1) ...\n",
      "#6 9.667 Setting up libssh2-1:amd64 (1.9.0-2+deb11u1) ...\n",
      "#6 9.676 Setting up netbase (6.3) ...\n",
      "#6 9.701 Setting up openssl (1.1.1w-0+deb11u3) ...\n",
      "#6 9.719 Setting up publicsuffix (20220811.1734-0+deb11u1) ...\n",
      "#6 9.730 Setting up libgdbm6:amd64 (1.19-2) ...\n",
      "#6 9.739 Setting up libldap-2.4-2:amd64 (2.4.57+dfsg-3+deb11u1) ...\n",
      "#6 9.750 Setting up ca-certificates (20210119) ...\n",
      "#6 9.846 debconf: unable to initialize frontend: Dialog\n",
      "#6 9.846 debconf: (TERM is not set, so the dialog frontend is not usable.)\n",
      "#6 9.846 debconf: falling back to frontend: Readline\n",
      "#6 10.49 Updating certificates in /etc/ssl/certs...\n",
      "#6 11.35 129 added, 0 removed; done.\n",
      "#6 11.38 Setting up libgdbm-compat4:amd64 (1.19-2) ...\n",
      "#6 11.38 Setting up libperl5.32:amd64 (5.32.1-4+deb11u4) ...\n",
      "#6 11.39 Setting up libcurl4:amd64 (7.74.0-1.3+deb11u15) ...\n",
      "#6 11.40 Setting up curl (7.74.0-1.3+deb11u15) ...\n",
      "#6 11.41 Setting up perl (5.32.1-4+deb11u4) ...\n",
      "#6 11.42 Setting up cowsay (3.03+dfsg2-8) ...\n",
      "#6 11.43 Processing triggers for libc-bin (2.31-13+deb11u13) ...\n",
      "#6 11.45 Processing triggers for ca-certificates (20210119) ...\n",
      "#6 11.46 Updating certificates in /etc/ssl/certs...\n",
      "#6 12.11 0 added, 0 removed; done.\n",
      "#6 12.11 Running hooks in /etc/ca-certificates/update.d...\n",
      "#6 12.11 done.\n",
      "#6 DONE 12.3s\n",
      "\n",
      "#7 exporting to image\n",
      "#7 exporting layers\n",
      "#7 exporting layers 1.8s done\n",
      "#7 exporting manifest sha256:e878b453684b5780021a7cdd960404b497a9c7cc4cd6fc49bbb5468e7978e7e3 0.0s done\n",
      "#7 exporting config sha256:2321c16d0106e514418ea568fac2858f64d69ed3eb5ff4f2b0e4d8f4d29c0160 done\n",
      "#7 exporting attestation manifest sha256:66ce0a333d03c491915e5cf94215d9ec75c76166a3c0ed0cf07e0b3bdcafc518 0.0s done\n",
      "#7 exporting manifest list sha256:de8f4026f7a08d2eb20fe969d62f6c9b3d9c2d155d784de880f7cdf1656fdfee 0.0s done\n",
      "#7 naming to docker.io/library/cowsay-container:latest done\n",
      "#7 unpacking to docker.io/library/cowsay-container:latest\n",
      "#7 unpacking to docker.io/library/cowsay-container:latest 0.9s done\n",
      "#7 DONE 2.9s\n",
      "\n",
      " \u001b[33m2 warnings found (use docker --debug to expand):\n",
      "\u001b[0m - LegacyKeyValueFormat: \"LABEL key=value\" should be used instead of legacy \"LABEL key value\" format (line 6)\n",
      " - LegacyKeyValueFormat: \"LABEL key=value\" should be used instead of legacy \"LABEL key value\" format (line 5)\n"
     ]
    }
   ],
   "source": [
    "# build the docker image\n",
    "!docker build -f my_dockerfile -t cowsay-container .\n"
   ]
  },
  {
   "cell_type": "code",
   "execution_count": null,
   "metadata": {},
   "outputs": [
    {
     "name": "stdout",
     "output_type": "stream",
     "text": [
      "REPOSITORY                                                 TAG                        IMAGE ID       CREATED              SIZE\n",
      "cowsay-container                                           latest                     de8f4026f7a0   About a minute ago   197MB\n",
      "hello-world                                                latest                     54e66cc1dd1f   7 weeks ago          20.3kB\n",
      "community.wave.seqera.io/library/fastqc                    0.12.1--af7a5314d5015c29   b7f6caf35926   11 months ago        1.37GB\n",
      "quay.io/biocontainers/fq                                   0.12.0--h9ee0642_0         74b59572f1d0   14 months ago        20MB\n",
      "quay.io/biocontainers/r-shinyngs                           1.8.8--r43hdfd78af_0       e0de72408557   17 months ago        1.99GB\n",
      "quay.io/biocontainers/atlas-gene-annotation-manipulation   1.1.1--hdfd78af_0          099d0e113ec8   18 months ago        1.82GB\n",
      "quay.io/nf-core/ubuntu                                     20.04                      59e9d08d8dc1   2 years ago          110MB\n",
      "quay.io/biocontainers/pandas                               1.5.2                      cbb54fcf8730   2 years ago          493MB\n",
      "quay.io/biocontainers/gsea                                 4.3.2--hdfd78af_0          0010041fff53   2 years ago          849MB\n",
      "quay.io/biocontainers/r-base                               4.2.1                      6721ee8bfba2   2 years ago          1.17GB\n",
      "quay.io/biocontainers/p7zip                                16.02                      731aaeef376a   3 years ago          47.7MB\n",
      "quay.io/biocontainers/python                               3.9--1                     d97d2b329b4e   4 years ago          275MB\n",
      "quay.io/biocontainers/gawk                                 5.1.0                      9d300f3d0a35   5 years ago          53.4MB\n",
      "quay.io/biocontainers/bioconductor-deseq2                  1.34.0--r41hc247a5b_3      c06884d353ef   55 years ago         452MB\n",
      "quay.io/biocontainers/wget                                 1.20.1                     7e5ba9e87a25   55 years ago         26.9MB\n"
     ]
    }
   ],
   "source": [
    "# make sure that the image has been built\n",
    "!docker images\n",
    "\n",
    "# yes, the cowsay-container appears in the list"
   ]
  },
  {
   "cell_type": "code",
   "execution_count": 10,
   "metadata": {},
   "outputs": [
    {
     "name": "stdout",
     "output_type": "stream",
     "text": [
      " ________\n",
      "< Hello! >\n",
      " --------\n",
      "        \\   ^__^\n",
      "         \\  (oo)\\_______\n",
      "            (__)\\       )\\/\\\n",
      "                ||----w |\n",
      "                ||     ||\n"
     ]
    }
   ],
   "source": [
    "# run the docker file \n",
    "!docker run cowsay-container cowsay \"Hello!\""
   ]
  },
  {
   "cell_type": "markdown",
   "metadata": {},
   "source": [
    "## Let's do some bioinformatics with the docker file and create a new docker file that holds the salmon tool used in rnaseq\n",
    "\n",
    "To do so, use \"curl\" in your new dockerfile to get salmon from https://github.com/COMBINE-lab/salmon/releases/download/v1.5.2/salmon-1.5.2_linux_x86_64.tar.gz"
   ]
  },
  {
   "cell_type": "code",
   "execution_count": 34,
   "metadata": {
    "vscode": {
     "languageId": "shellscript"
    }
   },
   "outputs": [
    {
     "name": "stderr",
     "output_type": "stream",
     "text": [
      "#0 building with \"desktop-linux\" instance using docker driver\n",
      "\n",
      "#1 [internal] load build definition from salmon_docker\n",
      "#1 transferring dockerfile: 636B 0.0s done\n",
      "#1 DONE 0.0s\n",
      "\n",
      "#2 [internal] load metadata for docker.io/library/debian:bullseye-slim\n",
      "#2 ...\n",
      "\n",
      "#3 [auth] library/debian:pull token for registry-1.docker.io\n",
      "#3 DONE 0.0s\n",
      "\n",
      "#2 [internal] load metadata for docker.io/library/debian:bullseye-slim\n",
      "#2 DONE 1.0s\n",
      "\n",
      "#4 [internal] load .dockerignore\n",
      "#4 transferring context: 2B done\n",
      "#4 DONE 0.0s\n",
      "\n",
      "#5 [1/3] FROM docker.io/library/debian:bullseye-slim@sha256:f807f4b16002c623115b0247dca6a55711c6b1ae821dc64fb8a2339e4ce2115d\n",
      "#5 resolve docker.io/library/debian:bullseye-slim@sha256:f807f4b16002c623115b0247dca6a55711c6b1ae821dc64fb8a2339e4ce2115d 0.0s done\n",
      "#5 DONE 0.0s\n",
      "\n",
      "#6 [2/3] RUN apt-get update && apt-get install -y curl tar && rm -rf /var/lib/apt/lists/*\n",
      "#6 CACHED\n",
      "\n",
      "#7 [3/3] RUN curl -L -o /tmp/salmon.tar.gz     https://github.com/COMBINE-lab/salmon/releases/download/v1.5.2/salmon-1.5.2_linux_x86_64.tar.gz &&     mkdir -p /opt/salmon &&     tar -xzf /tmp/salmon.tar.gz -C /opt/salmon --strip-components=1 &&     rm /tmp/salmon.tar.gz\n",
      "#7 0.398   % Total    % Received % Xferd  Average Speed   Time    Time     Time  Current\n",
      "#7 0.398                                  Dload  Upload   Total   Spent    Left  Speed\n",
      "#7 0.398 \n",
      "  0     0    0     0    0     0      0      0 --:--:-- --:--:-- --:--:--     0\n",
      "  0     0    0     0    0     0      0      0 --:--:-- --:--:-- --:--:--     0\n",
      "#7 0.725 \n",
      "  0     0    0     0    0     0      0      0 --:--:-- --:--:-- --:--:--     0\n",
      " 12 51.0M   12 6776k    0     0  5114k      0  0:00:10  0:00:01  0:00:09 6790k\n",
      " 27 51.0M   27 14.0M    0     0  6180k      0  0:00:08  0:00:02  0:00:06 7193k\n",
      " 43 51.0M   43 22.2M    0     0  6854k      0  0:00:07  0:00:03  0:00:04 7602k\n",
      " 59 51.0M   59 30.2M    0     0  7165k      0  0:00:07  0:00:04  0:00:03 7751k\n",
      " 75 51.0M   75 38.4M    0     0  7401k      0  0:00:07  0:00:05  0:00:02 7885k\n",
      " 91 51.0M   91 46.6M    0     0  7559k      0  0:00:06  0:00:06 --:--:-- 8207k\n",
      "100 51.0M  100 51.0M    0     0  7624k      0  0:00:06  0:00:06 --:--:-- 8368k\n",
      "#7 DONE 8.3s\n",
      "\n",
      "#8 exporting to image\n",
      "#8 exporting layers\n",
      "#8 exporting layers 7.1s done\n",
      "#8 exporting manifest sha256:823cb7299dd1b3b1ee01b69c16db078425f1416cc0d0dc8af8e8295fec1c88f7 done\n",
      "#8 exporting config sha256:670e726b43cb09668be0c82c88d86127c4d73d37a77878a429740427703b4cc2 done\n",
      "#8 exporting attestation manifest sha256:77f3fc29eca2fc81788ae8e45e909faf3ed14355eaeb3283dc9c0e43a07cd77b 0.0s done\n",
      "#8 exporting manifest list sha256:0fee106fa1eb9d17338fedbbc5b6b90cfbdf2d95c6721356aa7e9ef16d074511 done\n",
      "#8 naming to docker.io/library/salmon-container:latest done\n",
      "#8 unpacking to docker.io/library/salmon-container:latest\n",
      "#8 unpacking to docker.io/library/salmon-container:latest 0.8s done\n",
      "#8 DONE 8.0s\n"
     ]
    }
   ],
   "source": [
    "# use the file \"salmon_docker\" in this directory to build a new docker image\n",
    "# the file was completed accordingly\n",
    "\n",
    "!docker build -t salmon-container -f salmon_docker .\n"
   ]
  },
  {
   "cell_type": "code",
   "execution_count": null,
   "metadata": {
    "vscode": {
     "languageId": "shellscript"
    }
   },
   "outputs": [
    {
     "name": "stdout",
     "output_type": "stream",
     "text": [
      "REPOSITORY                                                 TAG                        IMAGE ID       CREATED              SIZE\n",
      "salmon-container                                           latest                     53578819dc3f   About a minute ago   407MB\n",
      "cowsay-container                                           latest                     de8f4026f7a0   12 minutes ago       197MB\n",
      "hello-world                                                latest                     54e66cc1dd1f   7 weeks ago          20.3kB\n",
      "community.wave.seqera.io/library/fastqc                    0.12.1--af7a5314d5015c29   b7f6caf35926   11 months ago        1.37GB\n",
      "quay.io/biocontainers/fq                                   0.12.0--h9ee0642_0         74b59572f1d0   14 months ago        20MB\n",
      "quay.io/biocontainers/r-shinyngs                           1.8.8--r43hdfd78af_0       e0de72408557   17 months ago        1.99GB\n",
      "quay.io/biocontainers/atlas-gene-annotation-manipulation   1.1.1--hdfd78af_0          099d0e113ec8   18 months ago        1.82GB\n",
      "quay.io/nf-core/ubuntu                                     20.04                      59e9d08d8dc1   2 years ago          110MB\n",
      "quay.io/biocontainers/pandas                               1.5.2                      cbb54fcf8730   2 years ago          493MB\n",
      "quay.io/biocontainers/gsea                                 4.3.2--hdfd78af_0          0010041fff53   2 years ago          849MB\n",
      "quay.io/biocontainers/r-base                               4.2.1                      6721ee8bfba2   2 years ago          1.17GB\n",
      "quay.io/biocontainers/p7zip                                16.02                      731aaeef376a   3 years ago          47.7MB\n",
      "quay.io/biocontainers/python                               3.9--1                     d97d2b329b4e   4 years ago          275MB\n",
      "quay.io/biocontainers/gawk                                 5.1.0                      9d300f3d0a35   5 years ago          53.4MB\n",
      "quay.io/biocontainers/bioconductor-deseq2                  1.34.0--r41hc247a5b_3      c06884d353ef   55 years ago         452MB\n",
      "quay.io/biocontainers/wget                                 1.20.1                     7e5ba9e87a25   55 years ago         26.9MB\n"
     ]
    }
   ],
   "source": [
    "# build the image\n",
    "# done above; checking it is really there:\n",
    "!docker images\n",
    "\n",
    "# yes, salmon-container appears in the list"
   ]
  },
  {
   "cell_type": "code",
   "execution_count": 5,
   "metadata": {
    "vscode": {
     "languageId": "shellscript"
    }
   },
   "outputs": [
    {
     "name": "stdout",
     "output_type": "stream",
     "text": [
      "salmon 1.5.2\n"
     ]
    }
   ],
   "source": [
    "# run the docker image to give out the version of salmon\n",
    "!docker run salmon-container salmon -v\n"
   ]
  },
  {
   "cell_type": "markdown",
   "metadata": {},
   "source": [
    "## Do you think bioinformaticians have to create a docker image every time they want to run a tool?\n",
    "\n",
    "- Docker images are created for a lot of tools already and can be found online\n",
    "\n",
    "Find the salmon docker image online and run it on your computer.\n",
    "\n",
    "What is https://biocontainers.pro/ ?\n",
    "\n",
    "- BioContainers allows to create, manage, and distribute bioinformatics software packages and containers using tools like Conda, Docker, and Singularity\n",
    "- it provides ready-to-use containers for bioinformatics\n",
    "- it offers infrastructure, specifications, and examples to help develop, build, and deploy new tools\n",
    "- it promotes reproducible pipelines and workflows by offering guidelines on container usage\n",
    "- it helps coordinate collaboration between developers and bioinformaticians to ensure best practices in documentation and software development\n",
    "\n",
    "Source: https://biocontainers-edu.readthedocs.io/en/latest/what_is_biocontainers.html "
   ]
  },
  {
   "cell_type": "code",
   "execution_count": 3,
   "metadata": {
    "vscode": {
     "languageId": "shellscript"
    }
   },
   "outputs": [
    {
     "name": "stdout",
     "output_type": "stream",
     "text": [
      "latest: Pulling from combinelab/salmon\n",
      "Digest: sha256:cefd8bb0b2ed9b07f22b5f0fc317ddda540e5b0dc00810d1ff0d92fee5d80370\n",
      "Status: Image is up to date for combinelab/salmon:latest\n",
      "docker.io/combinelab/salmon:latest\n"
     ]
    }
   ],
   "source": [
    "#salmon docker image found online: \n",
    "\n",
    "!docker pull combinelab/salmon:latest"
   ]
  },
  {
   "cell_type": "code",
   "execution_count": 4,
   "metadata": {
    "vscode": {
     "languageId": "shellscript"
    }
   },
   "outputs": [
    {
     "name": "stdout",
     "output_type": "stream",
     "text": [
      "salmon 1.10.3\n"
     ]
    }
   ],
   "source": [
    "!docker run combinelab/salmon:latest salmon -v\n"
   ]
  },
  {
   "cell_type": "markdown",
   "metadata": {},
   "source": [
    "## Are there other ways to create Docker (or Apptainer) images?\n",
    "\n",
    "- create it manually\n",
    "- use sequera, biocontainers or similar platforms\n",
    "- use images which are already online available\n",
    "\n",
    "What is https://seqera.io/containers/ ?\n",
    "\n",
    "- a large collection of ready-to-use, version-controlled containers \n",
    "- allows to select one or multiple packages and generates an image name that can be used to pull and run the specified container "
   ]
  }
 ],
 "metadata": {
  "kernelspec": {
   "display_name": "workflows_SS25_env",
   "language": "python",
   "name": "python3"
  },
  "language_info": {
   "codemirror_mode": {
    "name": "ipython",
    "version": 3
   },
   "file_extension": ".py",
   "mimetype": "text/x-python",
   "name": "python",
   "nbconvert_exporter": "python",
   "pygments_lexer": "ipython3",
   "version": "3.13.7"
  }
 },
 "nbformat": 4,
 "nbformat_minor": 2
}
