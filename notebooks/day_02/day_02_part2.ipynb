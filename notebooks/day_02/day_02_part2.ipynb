{
 "cells": [
  {
   "cell_type": "markdown",
   "metadata": {},
   "source": [
    "## Great, now that we discussed a little let's continue"
   ]
  },
  {
   "cell_type": "markdown",
   "metadata": {},
   "source": [
    "Given that the current approach utilized by the authors lacks reproducibility, we will explore an alternative method by leveraging nf-core pipelines for data analysis.\n",
    "\n",
    "Please explain, how we will achieve reproducibility for the course  with this approach.\n"
   ]
  },
  {
   "cell_type": "markdown",
   "metadata": {},
   "source": [
    "- Since nf-core pipelines aim at being reproducible, using these with known parameters and settings will lead to a reproducability of the analysis. This is achieved by f.e. the pipeline being fixed, maintained and documented, and using Docker (which keeps all required software in containers ensures that the computational environment remians identical across users)"
   ]
  },
  {
   "cell_type": "markdown",
   "metadata": {},
   "source": [
    "You have successfully downloaded 2 of the fastq files we will use in our study.\n",
    "\n",
    "What is the next step if we want to first have a count table and check the quality of our fastq files? What is the pipeline called to do so?"
   ]
  },
  {
   "cell_type": "markdown",
   "metadata": {},
   "source": [
    "- The pipeline is called rnaseq\n",
    "\n",
    "- The rnaseq pipeline assesses the quality of reads, removes low-quality bases and aligns them to a reference genome. It then quantifies gene or transcript expression, producing count tables and a QC report."
   ]
  },
  {
   "cell_type": "markdown",
   "metadata": {},
   "source": [
    "Analyze the 2 files using an nf-core pipeline.\n",
    "\n",
    "What does this pipeline do?\n",
    "\n",
    "Which are the main tools that will be used in the pipeline?"
   ]
  },
  {
   "cell_type": "markdown",
   "metadata": {},
   "source": [
    "- The pipeline automates the analysis of (RNA) sequencing data \n",
    "- The pipeline's main steps are pre-processing the data, genome alignment and quantification, pseudo-alignment and quantification, post-processing and finalising the QC. \n",
    "- main tools used are: FastQC (quality control of raw sequencing reads), Trim Galore (quality trimming), HISAT2 (aligning reads to thae reference genome), HTSeq or featureCounts (counting reads per gene) and DESeq2 (differential gene expression analysis and statistical testing)"
   ]
  },
  {
   "cell_type": "markdown",
   "metadata": {},
   "source": [
    "As all other nf-core pipelines, the chosen pipeline takes in a samplesheet as input.\n",
    "\n",
    "Use Python and pandas to create the samplesheet for your 2 samples. Feel free to make use of the table you created earlier today.\n",
    "\n",
    "- Since running the pipeline took a very long time, the output, including the samplesheet and the edited one, was not generated manually but thankfully given by Peter \n",
    "- Editing the samplesheet included adding information on strandedness and overall formatting of the sheet\n",
    "\n",
    "Choose your sample names wisely, they must be the connection of the results to the metadata. If you can't find the sample in the metadata later, the analysis was useless."
   ]
  },
  {
   "cell_type": "code",
   "execution_count": null,
   "metadata": {},
   "outputs": [],
   "source": [
    "# post here the command you used to run nf-core/rnaseq\n",
    "\n",
    "!nextflow run nf-core/rnaseq --input day02/SRFetch_results/samplesheet/samplesheet_fixed.csv --outdir day02/rnaseq_out --genome GRCm38 -profile docker --aligner hisat2 --hisat2_build_memory 6.GB -resume\n",
    "\n",
    "# leads to the error:   Process requirement exceeds available memory -- req: 12 GB; avail: 7.4 GB\n",
    "# writing a nextflow.config file and adding -c nextflow.config leads to the error:\n",
    "#   Process requirement exceeds available memory -- req: 72 GB; avail: 7.4 GB"
   ]
  },
  {
   "cell_type": "markdown",
   "metadata": {},
   "source": [
    "Explain all the parameters you set and why you set them in this way.\n",
    "\n",
    "- --input to specify the samplesheet  \n",
    "- --outdir to specify output folder  \n",
    "- --genome: specify GRCm38, which is a reference mouse genome  \n",
    "- -profile docker: to run with docker  \n",
    "- -aligner hisat2: chosen because it was used in the given paper  \n",
    "- --hisat2_build_memory 6.GB to limit memory (seems to not work)\n",
    "- -c to specify a nextflow.config file  \n",
    "\n"
   ]
  },
  {
   "cell_type": "markdown",
   "metadata": {},
   "source": []
  },
  {
   "cell_type": "markdown",
   "metadata": {},
   "source": [
    "## Browsing the results"
   ]
  },
  {
   "cell_type": "markdown",
   "metadata": {},
   "source": [
    "How did the pipeline perform?"
   ]
  },
  {
   "cell_type": "markdown",
   "metadata": {},
   "source": [
    "The pipeline requires more memory than available, therefore it repeatedly runs into errors. "
   ]
  },
  {
   "cell_type": "markdown",
   "metadata": {},
   "source": [
    "Explain the quality control steps. Are you happy with the quality and why. If not, why not.\n",
    "Please give additional information on : \n",
    "- ribosomal rRNA\n",
    "- Duplication\n",
    "- GC content\n",
    "\n",
    "What are the possible steps that could lead to poorer results?"
   ]
  },
  {
   "cell_type": "markdown",
   "metadata": {},
   "source": [
    "- (without seeing pipeline output)  \n",
    "- Poor results can stem from almost every step in the analysis: \n",
    "    - The data itself may be of poor quality\n",
    "    - pre-processing and read quality control may be too allowing of bad data\n",
    "    - alignment settings may be not suitable to the actual data"
   ]
  },
  {
   "cell_type": "markdown",
   "metadata": {},
   "source": [
    "Would you exclude any samples? If yes, which and why?"
   ]
  },
  {
   "cell_type": "markdown",
   "metadata": {},
   "source": [
    "- If the quality of any of the samples turns out to be exceptionally poor in the QC report, one should exclude these. "
   ]
  },
  {
   "cell_type": "markdown",
   "metadata": {},
   "source": [
    "What would you now do to continue the experiment? What are the scientists trying to figure out? Which packages on R or python would you use?"
   ]
  },
  {
   "cell_type": "markdown",
   "metadata": {},
   "source": [
    "- The next step would be to perform differential gene expression analysis to identify genes whose expression changes under different experimental conditions (e.g., SNI-Oxy vs Sham-Sal, SNI-Sal vs Sham-Sal, Sham-Oxy vs Sham-Sal)\n",
    "- Include brain regions mentioned in the paper (mPFC, NAc, VTA) to identify region-specific transcriptional changes\n",
    "- Do further analysis, like gene set enrichment analysis, which pathways are enriched, etc.\n",
    "\n",
    "- R / Python packages to use:\n",
    "    - DESeq2 (R) for differential expression\n",
    "    - pandas for data handling\n",
    "    - matplotlib / seaborn for plotting\n",
    "    - gseapy for gene set enrichment analysis"
   ]
  }
 ],
 "metadata": {
  "kernelspec": {
   "display_name": "work",
   "language": "python",
   "name": "python3"
  },
  "language_info": {
   "codemirror_mode": {
    "name": "ipython",
    "version": 3
   },
   "file_extension": ".py",
   "mimetype": "text/x-python",
   "name": "python",
   "nbconvert_exporter": "python",
   "pygments_lexer": "ipython3",
   "version": "3.10.13"
  }
 },
 "nbformat": 4,
 "nbformat_minor": 2
}
